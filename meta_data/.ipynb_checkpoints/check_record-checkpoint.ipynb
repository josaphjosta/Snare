{
 "cells": [
  {
   "cell_type": "code",
   "execution_count": 2,
   "id": "bed8ff5f-04da-4cdc-a81e-f05fbba184d2",
   "metadata": {},
   "outputs": [],
   "source": [
    "# gen data\n",
    "\n",
    "import os\n",
    "import re\n",
    "import json\n",
    "import copy\n",
    "import time\n",
    "import logging\n",
    "import random\n",
    "import pickle\n",
    "\n",
    "from utils.chat2DeepSeek import Chat2DeepSeek\n",
    "from utils.gen_prompt import Prompt\n",
    "from utils.util import parse_trigger_answer, parse_argument_answer, save_json, load_json"
   ]
  },
  {
   "cell_type": "code",
   "execution_count": 3,
   "id": "388bfcd6-7c28-48c9-80d2-1b8f67a6cdb1",
   "metadata": {},
   "outputs": [],
   "source": [
    "API_KEY = 'sk-7015d98e24c9431f9fb7fb2a4454186e'\n",
    "event_sen = {}\n",
    "# event_sub_list = ['TRANSPORT', 'ELECT', 'START-POSITION', 'ATTACK', 'END-POSITION', 'MEET', 'MARRY', 'PHONE-WRITE', 'TRANSFER-MONEY', 'SUE']\n",
    "\n",
    "# event_sen = load_json('./data_sen_5_28_11_20.json')\n",
    "event_dict = load_json('./meta_data/event_dict_full.json') # defin from doc\n",
    "trigger_dict = load_json('./meta_data/trigger_pool_ori.json')\n",
    "arguments_dict = load_json('./meta_data/argument_pool_ori.json')\n",
    "\n"
   ]
  },
  {
   "cell_type": "code",
   "execution_count": 4,
   "id": "c1590bff-ff95-4573-a310-190812f2d5a0",
   "metadata": {},
   "outputs": [],
   "source": [
    "n_trigger = 100\n",
    "n_argument = 20\n",
    "sentence_per_event = 50\n",
    "complex_score = [5, 10] # not implemented\n",
    "max_argument = 2\n",
    "max_event = 1\n",
    "max_refine = 3\n",
    "\n",
    "weight_dict = {0:[1],\n",
    "                1:[1],\n",
    "                2:[0.9, 0.1],\n",
    "                3:[0.8, 0.15, 0.05],\n",
    "                4:[0.5, 0.3, 0.1, 0.1]\n",
    "                  }"
   ]
  },
  {
   "cell_type": "code",
   "execution_count": 5,
   "id": "19b92ad9-e398-407e-98ed-4e4e7fe6aff7",
   "metadata": {},
   "outputs": [],
   "source": [
    "def get_n_event(max_event, weight_dict):\n",
    "    if max_event == 0:\n",
    "        return 0\n",
    "    return random.choices([ i for i in range(1, max_event + 1)], weights=weight_dict[max_event])\n",
    "\n",
    "def get_local_time():\n",
    "    return str(time.localtime().tm_mon) + '_' + str(time.localtime().tm_mday) + '_' + str(time.localtime().tm_hour) + '_' + str(time.localtime().tm_min)\n",
    "    "
   ]
  },
  {
   "cell_type": "code",
   "execution_count": 6,
   "id": "788f97e6-df07-40de-8278-fd3e50f2c831",
   "metadata": {},
   "outputs": [],
   "source": [
    "refine = '''\n",
    "### **Event Extraction Sentence Validation Protocol**  \n",
    "**Objective**: Ensure generated sentences strictly comply with event structure, argument roles, and tense constraints.  \n",
    "\n",
    "#### **1. Core Validation Checks**  \n",
    "**1.1 Trigger Compliance**  \n",
    "- ☑ **Explicit markup**: Triggers wrapped in `<EVENT><trigger>...</trigger></EVENT>`.  \n",
    "- ☑ **Only past tense verb/nominalized verb/simple present tense verb for triggers**(e.g.,\"elect\", \"meeting\", \"talks\", \"explosion\" are valid)\n",
    "- ☑ **No future/conditional/hypothetical triggers** (e.g., \"will elect\" is invalid).  \n",
    "- ☑ **Only one trigger per sentence**\n",
    "\n",
    "**1.2 Argument Role Alignment**  \n",
    "- ☑ **Role definitions**: Arguments must act *exactly* as their abstract role requires\n",
    "- ☑ **Role presence**: Arguments not in the Input(Task Execution -> Your Input of Event Extraction Sentence Generation Task) must not appear\n",
    "- ☑ **No role leakage**: Arguments cannot modify other words.  \n",
    "- ☑ **No TIME role**: If not provided in the INPUT, time information should not appear in the sentences(e.g., \"aghdad witnessed explosions yesterday.\" ->\"aghdad witnessed explosions.\" if TIME argument is not in the INPUT). \n",
    "- ☑ **Explicit markup**: Arguments wrapped in `<EVENT><ROLE>...</ROLE></EVENT>`.  \n",
    "\n",
    "**1.3 Semantic Coherence**  \n",
    "- ☑ **Arguments logically fit roles**:  \n",
    "  - Example: `Entity` must be capable of voting (e.g., \"government\" ✅, \"tree\" ❌).  \n",
    "- ☑ **No Need for Additional Arguments**:\n",
    "  - Arguments in the INPUT can make sentence Logical(No Need for Additional Arguments to make sentence vaild)\n",
    "- ☑ **No factual checks**: Unrealistic scenarios are allowed (e.g., \"AI was elected in 1200 BC\").  \n",
    "\n",
    "---\n",
    "\n",
    "#### **2. Revision Rules**  \n",
    "**2.1 Mandatory Fixes**  \n",
    "- ❌ **Misaligned arguments**: Rewrite to ensure arguments *act* as their role (e.g., delete \"voters\" to let `Entity=\"american\"` function as the voter).  \n",
    "- ❌ **Tense errors**: Replace future/conditional/hypothetical triggers (e.g., \"will elect\" → \"elect\"/\"elected\").  \n",
    "\n",
    "**2.2 Prohibited Actions**  \n",
    "- ⛔ **Never modify original arguments/triggers** (e.g., cannot change `Entity=\"american\"` to `Entity=\"Americans\"`).  \n",
    "- ⛔ **No role swaps** (e.g., cannot repurpose `Place` as `Entity`).  \n",
    "\n",
    "**2.3 Unfixable Errors**  \n",
    "- If constraints cannot be met without violating rules, return  `{\"sentences\": []}`.  \n",
    "\n",
    "---\n",
    "\n",
    "#### **3. Examples**  \n",
    "**Valid**:  \n",
    "> *\"<ELECT><Person>AI</Person></ELECT> was <ELECT><trigger>elected</trigger></ELECT> by <ELECT><Entity>robots</Entity></ELECT> in <ELECT><Place>Mars</Place></ELECT>.\"*  \n",
    "- ✅ Past tense trigger.  \n",
    "- ✅ `Entity=\"robots\"` acts as voter.  \n",
    "\n",
    "**Invalid → Revision**:  \n",
    "> *\"The <ELECT><Entity>government</Entity></ELECT> <ELECT><trigger>elected</trigger></ELECT> <ELECT><Person>Chiluba</Person></ELECT> in <ELECT><Place>Florida</Place></ELECT>.\"*  \n",
    "- ❌ `Entity=\"government\"` should vote *for* someone, not act as elector.  \n",
    "- **Fix**: *\"<ELECT><Person>Chiluba</Person></ELECT> was <ELECT><trigger>elected</trigger></ELECT> by <ELECT><Entity>government</Entity></ELECT> in <ELECT><Place>Florida</Place></ELECT>.\"*  \n",
    "\n",
    "**Unfixable → Empty Output**:  \n",
    "> Input: `{\"Entity\": \"stone\"}` (stones cannot vote).  \n",
    "> Output: `{\"sentences\": []}`  \n",
    "\n",
    "---\n",
    "\n",
    "#### **4. Final Workflow**  \n",
    "\n",
    "1. Run **all checks** (trigger, argument roles, coherence).  \n",
    "2. if possible, Generate Revised sentence from INPUT and previous conversation.  \n",
    "3. else, return empty.  \n",
    "\n",
    "\n",
    "This protocol ensures strict adherence to linguistic and structural constraints while maintaining reproducibility.\n",
    "'''"
   ]
  },
  {
   "cell_type": "code",
   "execution_count": 7,
   "id": "16c1afc3-b876-4c94-9761-2da32bdc89d4",
   "metadata": {},
   "outputs": [],
   "source": [
    "def chat4data_all(event_dict, gen_prompt, max_refine):\n",
    "    for i, event in enumerate(event_dict, 1):\n",
    "        if event_sen.get(event) and len(event_sen[event]) >= 50:\n",
    "            print('---EVENT {} chated'.format(event))\n",
    "            continue\n",
    "\n",
    "        s_start_time = time.time()\n",
    "        print('TIME {} -- chating for EVENT {}'.format(get_local_time(), event))\n",
    "        if not event_sen.get(event):\n",
    "            event_sen[event] = []\n",
    "        while len(event_sen[event]) < 50: \n",
    "            prompt, record = gen_prompt.gen_data_prompt(main_event=event, n_event=1)\n",
    "            event_sen[event].append(record)"
   ]
  },
  {
   "cell_type": "code",
   "execution_count": 14,
   "id": "77d06e38-9f4d-46f7-bdd4-1fe9d0b1c80b",
   "metadata": {},
   "outputs": [
    {
     "name": "stdout",
     "output_type": "stream",
     "text": [
      "no orignal record\n"
     ]
    }
   ],
   "source": [
    "gen_prompt = Prompt(\n",
    "    event_dict = event_dict, \n",
    "    trigger_dict = trigger_dict, \n",
    "    arguments_dict = arguments_dict, \n",
    "    n_event = get_n_event(max_event, weight_dict)[0], \n",
    "    max_argument = max_argument,\n",
    "    complex_score = complex_score)"
   ]
  },
  {
   "cell_type": "code",
   "execution_count": 16,
   "id": "013b3205-07b9-4a47-92a5-cbdf0bda1297",
   "metadata": {},
   "outputs": [],
   "source": [
    "prompt, record = gen_prompt.gen_data_prompt(main_event='ATTACK', n_event=1)# n_event=get_n_event(max_event, weight_dict)[0]"
   ]
  },
  {
   "cell_type": "code",
   "execution_count": 18,
   "id": "9fcbf366-9bfd-4025-afb9-534c7e6696ea",
   "metadata": {},
   "outputs": [
    {
     "name": "stdout",
     "output_type": "stream",
     "text": [
      "\n",
      "Event Extraction Sentence Generation Task\n",
      "\n",
      "Core Definitions\n",
      "1. **Event**: An objective fact describing interactions between participants at specific time/location  \n",
      "2. **Event Type**: Classification label (e.g., ELECT) determining argument structure  \n",
      "3. **Trigger**: Explicit event indicator (verb/nominalized verb) that **must use past tense**  \n",
      "4. **Arguments**: Core elements with semantic roles (e.g., Person/Entity/Time/Place)\n",
      "Event Specifications:ATTACK, \n",
      "\tDefinition for ATTACK: An ATTACK Event is defined as a violent physical act causing harm or damage.  ATTACK Events include any such Event not covered by the INJURE or DIE subtypes, including Events where there is no stated agent.  The ATTACK Event type includes less specific violence-related nouns such as ‘conflict’, ‘clashes’, and ‘fighting’.  ‘Gunfire’, which has the qualities of both an Event and a weapon, should always be tagged as an ATTACK Event, if only for the sake of consistency.  A ‘coup’ is a kind of ATTACK (and so is a ‘war’). \n",
      "\tArguments definition for ATTACK:\n",
      "\t\tAttacker: The attacking/instigating agent\n",
      "\t\tTarget: The target of the attack (including unintended targets)\n",
      "\t\tInstrument: The instrument used in the attack\n",
      "\t\tTime: When the attack takes place\n",
      "\t\tPlace: Where the attack takes place\n",
      "Trigger Annotation Rules\n",
      "    Key Requirements:\n",
      "     Quantitative Limitation: Only one trigger per sentence\n",
      "     Tense Enforcement: NO future tense actions described for any events(while conditional tense is granted)\n",
      "     Three Trigger Patterns:\n",
      "      a) Main verb: \"Protesters <trigger>clashed</trigger> with police\"\n",
      "      b) Adjective/Participle: \"The <trigger>convicted</trigger> politician resigned\"\n",
      "      c) Modifier: \"Newly-<trigger>elected</trigger> officials convened\"\n",
      "      d) Nominalized: \"New <trigger>explosions</trigger> rock Baghdad after dark .\"\n",
      "      e) Simple Present Tense verb: \"Protesters <trigger>clash</trigger> with police\"\n",
      "Annotation Protocol:\n",
      "    <EVENT><trigger>won</trigger></EVENT>, where EVENT means the event given in **Event Specifications**, and <trigger></trigger> is static\n",
      "    <EVENT><ROLE>voters</ROLE></EVENT>, where EVENT means the event given in **Event Specifications**, and ROLE means the correspondent argument role for the EVENT and its arguments.\n",
      "Validation Checklist\n",
      "    1.No future tense verbs present\n",
      "    2.All provided arguments explicitly tagged\n",
      "    3.Trigger words match past tense requirement\n",
      "    4.No imaginary/hypothetical scenarios\n",
      "    \n",
      "Examples (Revised)\n",
      "    Input:\n",
      "        {\n",
      "          \"event_1\": {\n",
      "            \"event\": \"ELECT\",\n",
      "            \"trigger\": \"vote\",\n",
      "            \"arguments\": {\n",
      "              \"Place\": [\"Ohio\"],\n",
      "              \"Entity\": [\"district\"]\n",
      "            }\n",
      "          }\n",
      "        }\n",
      "    Valid Output:\n",
      "        {\n",
      "          \"sentences\": [\n",
      "            \"In yesterday's special election, the <ELECT><Entity>district</Entity></ELECT> of <ELECT><Place>Ohio</Place></ELECT> successfully <ELECT><trigger>voted</trigger></ELECT> to fill the congressional seat vacancy.\"\n",
      "          ]\n",
      "        }\n",
      "    Task Execution\n",
      "\tYour Input:\n",
      "\t{\"event_1\": {\"event\": \"ATTACK\", \"trigger\": \"confrontation\", \"argument\": {\"Instrument\": [\"bullet\"], \"Target\": [\"bunkers\"]}}}\n",
      "Generate 1 compliant sentence following ALL constraints.\n"
     ]
    }
   ],
   "source": [
    "print(prompt)"
   ]
  },
  {
   "cell_type": "code",
   "execution_count": 29,
   "id": "b99d3180-5d47-4f23-979a-d6ba4787f0a8",
   "metadata": {},
   "outputs": [],
   "source": [
    "prompt, record = gen_prompt.gen_rec_prompt(main_event='ATTACK', n_event=1)# n_event=get_n_event(max_event, weight_dict)[0]"
   ]
  },
  {
   "cell_type": "code",
   "execution_count": 31,
   "id": "3ba3419c-d15e-4f78-a952-e40861904731",
   "metadata": {},
   "outputs": [
    {
     "name": "stdout",
     "output_type": "stream",
     "text": [
      "Event Record Cheak Task\n",
      "\n",
      "\n",
      "Core Definitions\n",
      "1. **Event**: An objective fact describing interactions between participants at specific time/location  \n",
      "2. **Event Type**: Classification label (e.g., ELECT) determining argument structure  \n",
      "3. **Trigger**: Explicit event indicator (verb/nominalized verb) that **must use past tense**  \n",
      "4. **Arguments**: Core elements with semantic roles (e.g., Person/Entity/Time/Place)\n",
      "Event Specifications:ATTACK, \n",
      "\tDefinition for ATTACK: An ATTACK Event is defined as a violent physical act causing harm or damage.  ATTACK Events include any such Event not covered by the INJURE or DIE subtypes, including Events where there is no stated agent.  The ATTACK Event type includes less specific violence-related nouns such as ‘conflict’, ‘clashes’, and ‘fighting’.  ‘Gunfire’, which has the qualities of both an Event and a weapon, should always be tagged as an ATTACK Event, if only for the sake of consistency.  A ‘coup’ is a kind of ATTACK (and so is a ‘war’). \n",
      "\tArguments definition for ATTACK:\n",
      "\t\tAttacker: The attacking/instigating agent\n",
      "\t\tTarget: The target of the attack (including unintended targets)\n",
      "\t\tInstrument: The instrument used in the attack\n",
      "\t\tTime: When the attack takes place\n",
      "\t\tPlace: Where the attack takes place\n",
      "Trigger Annotation Rules\n",
      "    Key Requirements:\n",
      "     Quantitative Limitation: Only one trigger per sentence\n",
      "     Tense Enforcement: NO future tense actions described for any events(while conditional tense is granted)\n",
      "     Three Trigger Patterns:\n",
      "      a) Main verb: \"Protesters <trigger>clashed</trigger> with police\"\n",
      "      b) Adjective/Participle: \"The <trigger>convicted</trigger> politician resigned\"\n",
      "      c) Modifier: \"Newly-<trigger>elected</trigger> officials convened\"\n",
      "      d) Nominalized: \"New <trigger>explosions</trigger> rock Baghdad after dark .\"\n",
      "      e) Simple Present Tense verb: \"Protesters <trigger>clash</trigger> with police\"\n",
      "Task Execution\n",
      "\tYour Input:\n",
      "\t{\"event_1\": {\"event\": \"ATTACK\", \"trigger\": \"crime\", \"argument\": {\"Target\": [\"leaders\"]}}}\n",
      "\tdecide if the record is reasonable\n"
     ]
    }
   ],
   "source": [
    "print(prompt)"
   ]
  },
  {
   "cell_type": "code",
   "execution_count": 11,
   "id": "64d7607b-9be3-4031-b07c-1e7fa1149664",
   "metadata": {},
   "outputs": [
    {
     "name": "stdout",
     "output_type": "stream",
     "text": [
      "{\"event_1\": {\"event\": \"ATTACK\", \"trigger\": \"smashed\", \"argument\": {\"Instrument\": [\"armor\"], \"Target\": [\"youths\"]}}}\n"
     ]
    }
   ],
   "source": [
    "print(record)"
   ]
  },
  {
   "cell_type": "code",
   "execution_count": 33,
   "id": "72b7dfdd-ebd1-4e35-b480-9d78ad2a5516",
   "metadata": {
    "scrolled": true
   },
   "outputs": [],
   "source": [
    "sens = load_json('./data_sen_5_23_12_0.json')\n"
   ]
  },
  {
   "cell_type": "code",
   "execution_count": 43,
   "id": "b4863953-7c74-4fda-a01c-a590239a4783",
   "metadata": {},
   "outputs": [
    {
     "name": "stdout",
     "output_type": "stream",
     "text": [
      "ATTACK\n",
      "['The <ATTACK><Attacker>king</Attacker></ATTACK> <ATTACK><trigger>smashed</trigger></ATTACK> a <ATTACK><Target>vehicle</Target></ATTACK> with <ATTACK><Instrument>rocket</Instrument></ATTACK> and <ATTACK><Instrument>cocktails</Instrument></ATTACK> during the uprising.']\n",
      "['The assailants <ATTACK><trigger>dropped</trigger></ATTACK> explosives on the <ATTACK><Target>Guard</Target></ATTACK> at the checkpoint.']\n",
      "['The radical <ATTACK><Attacker>wing</Attacker></ATTACK> brutally <ATTACK><trigger>abused</trigger></ATTACK> a <ATTACK><Target>division</Target></ATTACK> in the <ATTACK><Place>town</Place></ATTACK> during the riots.']\n",
      "['In <ATTACK><Place>Sudan</Place></ATTACK>, <ATTACK><Attacker>banks</Attacker></ATTACK> brutally <ATTACK><trigger>raped</trigger></ATTACK> <ATTACK><Target>airliners</Target></ATTACK> during the conflict.']\n",
      "['The <ATTACK><Attacker>conspirator</Attacker></ATTACK> <ATTACK><trigger>threw</trigger></ATTACK> explosives from a <ATTACK><Instrument>warplane</Instrument></ATTACK> at the <ATTACK><Target>battery</Target></ATTACK>.']\n",
      "\n",
      "MEET\n",
      "['The <MEET><Entity>Central Organ of the Mechanism for Conflict Prevention , Management and Resolution</Entity></MEET> <MEET><trigger>went</trigger></MEET> to <MEET><Place>Seoul</Place></MEET> for discussions.']\n",
      "['The <MEET><Entity>bishops</Entity></MEET> <MEET><trigger>held</trigger></MEET> a conference in the <MEET><Place>U.S.</Place></MEET> last month.']\n",
      "['Last week, the <MEET><Entity>women</Entity></MEET> held <MEET><trigger>meetings</trigger></MEET> in <MEET><Place>virginia</Place></MEET> to discuss community initiatives.']\n",
      "['Last week, <MEET><Entity>Pasko</Entity></MEET> <MEET><trigger>talked</trigger></MEET> in <MEET><Place>Jerusalem</Place></MEET>.']\n",
      "['The <MEET><Entity>envoys</Entity></MEET> <MEET><trigger>discussed</trigger></MEET> the treaty in <MEET><Place>Iraq</Place></MEET>.']\n",
      "\n",
      "PHONE-WRITE\n",
      "['The school administration <PHONE-WRITE><trigger>mailed</trigger></PHONE-WRITE> important updates to all <PHONE-WRITE><Entity>parents</Entity></PHONE-WRITE> last week.']\n",
      "['The <PHONE-WRITE><Entity>agency</Entity></PHONE-WRITE> <PHONE-WRITE><trigger>told</trigger></PHONE-WRITE> the client about the delay via email.']\n",
      "['<PHONE-WRITE><Entity>Caroline Forham</Entity></PHONE-WRITE> <PHONE-WRITE><trigger>wrote</trigger></PHONE-WRITE> an email to her colleague last Tuesday.']\n",
      "['The diplomats <PHONE-WRITE><trigger>called</trigger></PHONE-WRITE> each other last night.']\n",
      "['Last week, <PHONE-WRITE><Entity>folks</Entity></PHONE-WRITE> <PHONE-WRITE><trigger>reached</trigger></PHONE-WRITE> out to <PHONE-WRITE><Entity>Stinnett</Entity></PHONE-WRITE> by phone to coordinate the meeting.']\n",
      "\n",
      "SUE\n",
      "['<SUE><Plaintiff>Bechtel</Plaintiff></SUE> <SUE><trigger>sued</trigger></SUE> <SUE><Defendant>bankers</Defendant></SUE> for <SUE><Crime>fraud</Crime></SUE> in <SUE><Place>South Florida</Place></SUE>.']\n",
      "['<SUE><Plaintiff>GE</Plaintiff></SUE> <SUE><trigger>sued</trigger></SUE> <SUE><Defendant>Pair</Defendant></SUE> last year.']\n",
      "['In <SUE><Place>Washington</Place></SUE>, <SUE><Plaintiff>johnson</Plaintiff></SUE> <SUE><trigger>sued</trigger></SUE> the <SUE><Defendant>industry</Defendant></SUE> last year.']\n",
      "['The plaintiff <SUE><trigger>sued</trigger></SUE> the defendant in federal court.']\n",
      "['The <SUE><Plaintiff>investor</Plaintiff></SUE> <SUE><trigger>sued</trigger></SUE> the <SUE><Defendant>epa</Defendant></SUE> before the <SUE><Adjudicator>judge</Adjudicator></SUE> at the federal <SUE><Adjudicator>court</Adjudicator></SUE> last month.']\n",
      "\n",
      "MARRY\n",
      "['<MARRY><Person>Nathan</Person></MARRY> entered into legal <MARRY><trigger>unions</trigger></MARRY> in the <MARRY><Place>state</Place></MARRY>.']\n",
      "['The couple <MARRY><trigger>married</trigger></MARRY> last weekend.']\n",
      "['The <MARRY><Person>microbiologist</Person></MARRY> <MARRY><trigger>remarried</trigger></MARRY>.']\n",
      "['The <MARRY><Person>couple</Person></MARRY> <MARRY><trigger>remarried</trigger></MARRY> in the <MARRY><Place>state</Place></MARRY> last weekend.']\n",
      "['The <MARRY><Person>same-sex</Person></MARRY> couple <MARRY><trigger>married</trigger></MARRY> at the <MARRY><Place>government</Place></MARRY> office.']\n",
      "\n",
      "TRANSPORT\n",
      "['The <TRANSPORT><Artifact>girlfriend</Artifact></TRANSPORT> <TRANSPORT><trigger>arrived</trigger></TRANSPORT> in <TRANSPORT><Destination>Miami</Destination></TRANSPORT> from <TRANSPORT><Origin>Austin</Origin></TRANSPORT> last night.']\n",
      "['The <TRANSPORT><Artifact>gun</Artifact></TRANSPORT> was <TRANSPORT><trigger>raced</trigger></TRANSPORT> from the <TRANSPORT><Origin>area</Origin></TRANSPORT> to <TRANSPORT><Destination>baghdad</Destination></TRANSPORT>.']\n",
      "['The <TRANSPORT><Artifact>tourist</Artifact></TRANSPORT> was <TRANSPORT><trigger>transported</trigger></TRANSPORT> from <TRANSPORT><Origin>Gaza</Origin></TRANSPORT> to <TRANSPORT><Destination>New England</Destination></TRANSPORT>.']\n",
      "['<TRANSPORT><Artifact>father</Artifact></TRANSPORT> <TRANSPORT><trigger>traveled</trigger></TRANSPORT> from <TRANSPORT><Origin>HQ</Origin></TRANSPORT> to <TRANSPORT><Destination>mouth</Destination></TRANSPORT>.']\n",
      "['The security team <TRANSPORT><trigger>escorted</trigger></TRANSPORT> the <TRANSPORT><Artifact>tourists</Artifact></TRANSPORT> from <TRANSPORT><Origin>parts</Origin></TRANSPORT> of the city to the <TRANSPORT><Destination>airport</Destination></TRANSPORT>.']\n",
      "\n",
      "START-POSITION\n",
      "['<START-POSITION><Person>Ahmed Chalabi</Person></START-POSITION> <START-POSITION><trigger>ran</trigger></START-POSITION> the <START-POSITION><Entity>Center</Entity></START-POSITION> after his appointment last year.']\n",
      "['<START-POSITION><Person>jordan</Person></START-POSITION> was <START-POSITION><trigger>installed</trigger></START-POSITION> as the new team president of <START-POSITION><Entity>Detroit Pistons</Entity></START-POSITION> in <START-POSITION><Place>Geneva</Place></START-POSITION> last week.']\n",
      "['Two <START-POSITION><Person>people</Person></START-POSITION> and three <START-POSITION><Person>professionals</Person></START-POSITION> <START-POSITION><trigger>newly</trigger></START-POSITION> joined the <START-POSITION><Entity>American Medical Association</Entity></START-POSITION> last quarter.']\n",
      "['The newly <START-POSITION><trigger>run</trigger></START-POSITION> committee began its operations last week.']\n",
      "['<START-POSITION><Person>John Doe</Person></START-POSITION> was <START-POSITION><trigger>hired</trigger></START-POSITION> by <START-POSITION><Entity>Tech Corp</Entity></START-POSITION>.']\n",
      "\n",
      "END-POSITION\n",
      "['<END-POSITION><Person>Jaroslav Tvrdik</Person></END-POSITION> was <END-POSITION><trigger>removed</trigger></END-POSITION> from <END-POSITION><Entity>pentagon</Entity></END-POSITION>.']\n",
      "['The <END-POSITION><Person>head</Person></END-POSITION> was <END-POSITION><trigger>overthrown</trigger></END-POSITION> from the <END-POSITION><Entity>program</Entity></END-POSITION>.']\n",
      "['<END-POSITION><Person>Tuberville</Person></END-POSITION> <END-POSITION><trigger>was</trigger></END-POSITION> no longer associated with <END-POSITION><Entity>amr</Entity></END-POSITION>.']\n",
      "['<END-POSITION><Person>Patrick Lang</Person></END-POSITION> <END-POSITION><trigger>quit</trigger></END-POSITION> the <END-POSITION><Entity>parliament</Entity></END-POSITION>.']\n",
      "['After years of service, <END-POSITION><Person>Rumsfeld</Person></END-POSITION> faced <END-POSITION><trigger>ouster</trigger></END-POSITION> from <END-POSITION><Entity>NCA</Entity></END-POSITION> in <END-POSITION><Place>prince georges county</Place></END-POSITION>.']\n",
      "\n",
      "ELECT\n",
      "['John Edwards <ELECT><trigger>won</trigger></ELECT> the election in the <ELECT><Place>country</Place></ELECT> as the <ELECT><Person>john edwards</Person></ELECT>.']\n",
      "['<ELECT><Person>Edwards</Person></ELECT> <ELECT><trigger>became</trigger></ELECT> the new mayor after winning the election.']\n",
      "['<ELECT><Person>Schwarzenegger</Person></ELECT> was <ELECT><trigger>elected</trigger></ELECT> in the recall election.']\n",
      "['<ELECT><Person>Dean</Person></ELECT> was <ELECT><trigger>reelected</trigger></ELECT>.']\n",
      "['The <ELECT><trigger>elected</trigger></ELECT> candidate emerged from the <ELECT><trigger>Elections</trigger></ELECT>.']\n",
      "\n",
      "TRANSFER-MONEY\n",
      "['<TRANSFER-MONEY><Giver>Arafat</Giver></TRANSFER-MONEY> <TRANSFER-MONEY><trigger>stole</trigger></TRANSFER-MONEY> funds meant for the <TRANSFER-MONEY><Beneficiary>survivors</Beneficiary></TRANSFER-MONEY>.']\n",
      "['Last year, <TRANSFER-MONEY><Giver>the company</Giver></TRANSFER-MONEY> <TRANSFER-MONEY><trigger>donated</trigger></TRANSFER-MONEY> <TRANSFER-MONEY><Money>$1 million</Money></TRANSFER-MONEY> to <TRANSFER-MONEY><Recipient>the clinic</Recipient></TRANSFER-MONEY>.']\n",
      "['The <TRANSFER-MONEY><Giver>World Bank</Giver></TRANSFER-MONEY> <TRANSFER-MONEY><trigger>recovered</trigger></TRANSFER-MONEY> funds for <TRANSFER-MONEY><Beneficiary>Suha</Beneficiary></TRANSFER-MONEY>.']\n",
      "['The <TRANSFER-MONEY><Giver>coach</Giver></TRANSFER-MONEY> was caught <TRANSFER-MONEY><trigger>stealing</trigger></TRANSFER-MONEY> funds in <TRANSFER-MONEY><Place>Swiss</Place></TRANSFER-MONEY>.']\n",
      "['The <TRANSFER-MONEY><Giver>university</Giver></TRANSFER-MONEY> <TRANSFER-MONEY><trigger>loaned</trigger></TRANSFER-MONEY> funds to researchers in <TRANSFER-MONEY><Place>South Asia</Place></TRANSFER-MONEY> and <TRANSFER-MONEY><Place>Swiss</Place></TRANSFER-MONEY> last year.']\n",
      "\n"
     ]
    }
   ],
   "source": [
    "for e, rs in sens.items():\n",
    "    print(e)\n",
    "    for i, r in enumerate(rs):\n",
    "        if i % 10 == 0:\n",
    "            print(r['sentence']['sentences'])\n",
    "    print()"
   ]
  },
  {
   "cell_type": "code",
   "execution_count": 13,
   "id": "d3ed448e-f25c-4a38-9b76-71dcdd31d4ee",
   "metadata": {},
   "outputs": [],
   "source": [
    "# for e, rs in event_sen.items():\n",
    "#     print(e)\n",
    "#     for i, r in enumerate(rs):\n",
    "#         if i % 10 == 0:\n",
    "#             print(r)\n",
    "#     print('*'*25)"
   ]
  },
  {
   "cell_type": "code",
   "execution_count": null,
   "id": "5637804c-1d71-4d9a-9b65-f2ab3fc8ef54",
   "metadata": {},
   "outputs": [],
   "source": [
    "'''\n",
    "Complexity Control\n",
    "    Constraints:\n",
    "        1.Trigger and arguments must remain unchanged (exact words/phrases provided in input).\n",
    "        2.Complexity is adjusted only through:\n",
    "            Lexical: Vocabulary richness around the fixed trigger/arguments.\n",
    "    \n",
    "    \n",
    "    Metric for Lexical Complexity:\n",
    "        Description\tExample (Fixed trigger: \"bomb\", Arguments: state, team, warplanes)\n",
    "        Lexical=1:\tBasic syntax, minimal modifiers.(e.g., \"The state bombed the team with warplanes.\")\n",
    "        Lexical=2:\tModerate adjectives/adverbs, prepositional phrases.(e.g., \"The state violently bombed the fleeing team using advanced warplanes.\")\n",
    "        Lexical=3:\tAdvanced diction, figurative language, or technical terms.(e.g., \"The state executed a relentless bombing campaign, decimating the beleaguered team via supersonic warplanes.\")\n",
    "    Default Complexity Request: If unspecified, generate at Lexical=2.'''"
   ]
  }
 ],
 "metadata": {
  "kernelspec": {
   "display_name": "Python [conda env:faiss]",
   "language": "python",
   "name": "conda-env-faiss-py"
  },
  "language_info": {
   "codemirror_mode": {
    "name": "ipython",
    "version": 3
   },
   "file_extension": ".py",
   "mimetype": "text/x-python",
   "name": "python",
   "nbconvert_exporter": "python",
   "pygments_lexer": "ipython3",
   "version": "3.10.16"
  }
 },
 "nbformat": 4,
 "nbformat_minor": 5
}
