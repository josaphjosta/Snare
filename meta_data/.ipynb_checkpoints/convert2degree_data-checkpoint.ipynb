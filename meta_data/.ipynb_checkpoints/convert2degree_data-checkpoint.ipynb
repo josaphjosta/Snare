{
 "cells": [
  {
   "cell_type": "code",
   "execution_count": 1,
   "metadata": {},
   "outputs": [],
   "source": [
    "import numpy as np\n",
    "import copy\n",
    "import re\n",
    "import json\n",
    "import os\n",
    "\n",
    "import nltk\n"
   ]
  },
  {
   "cell_type": "code",
   "execution_count": 2,
   "metadata": {},
   "outputs": [],
   "source": [
    "# nltk.download('wordnet')\n",
    "nltk.data.path.append(r'D:/Function/Anaconda3/share/nltk_data')\n",
    "from nltk.stem import WordNetLemmatizer"
   ]
  },
  {
   "cell_type": "code",
   "execution_count": 3,
   "metadata": {},
   "outputs": [],
   "source": [
    "r_e = {}\n",
    "for fn in os.listdir('./meta_data/arg_roles/'):\n",
    "    if not fn.endswith('.txt'):\n",
    "        continue\n",
    "    with open('./meta_data/arg_roles/' + fn, 'r', encoding='utf-8') as f:\n",
    "        r_data = json.load(f)\n",
    "    for k in r_data:\n",
    "        e_t = (fn.split('.txt')[0] + \":\" + k).upper()\n",
    "        r_e[e_t] = {}\n",
    "        for role in r_data[k]:\n",
    "            r_e[e_t][role.replace('-Arg', '')] = r_data[k][role][0].split('/')"
   ]
  },
  {
   "cell_type": "code",
   "execution_count": 4,
   "metadata": {},
   "outputs": [],
   "source": [
    "with open('./data_sen_3_4_8_38.json', 'r', encoding='utf-8') as f:\n",
    "    all_data = json.load(f)"
   ]
  },
  {
   "cell_type": "code",
   "execution_count": 5,
   "metadata": {},
   "outputs": [
    {
     "name": "stdout",
     "output_type": "stream",
     "text": [
      "33\n"
     ]
    }
   ],
   "source": [
    "s_data = {}\n",
    "half = len(all_data) // 2\n",
    "for i, e in enumerate(all_data):\n",
    "    # if i == half:\n",
    "    #     break\n",
    "#     if i < half:\n",
    "#         continue\n",
    "    s_data[e] = all_data[e]\n",
    "print(len(s_data))"
   ]
  },
  {
   "cell_type": "code",
   "execution_count": 6,
   "metadata": {},
   "outputs": [],
   "source": [
    "with open('./meta_data/trigger_pool.json', 'r', encoding='utf-8') as f:\n",
    "    trigger_pool = json.load(f)"
   ]
  },
  {
   "cell_type": "code",
   "execution_count": 7,
   "metadata": {},
   "outputs": [],
   "source": [
    "sen_event = {}\n",
    "for e in s_data:\n",
    "    sen_event[e] = []\n",
    "    for i in range(len(s_data[e])):\n",
    "        for sen in s_data[e][i]['sentence']:\n",
    "            sen_event[e].append([sen, s_data[e][i]['record']])"
   ]
  },
  {
   "cell_type": "code",
   "execution_count": 8,
   "metadata": {
    "scrolled": true
   },
   "outputs": [],
   "source": [
    "event_sen_pair = []\n",
    "for e in sen_event:\n",
    "    for i in range(len(sen_event[e])):\n",
    "        for record in sen_event[e][i][1]:\n",
    "            r = sen_event[e][i][1][record]\n",
    "            sentence = sen_event[e][i][0]\n",
    "            try:\n",
    "                trigger = re.findall(r'<{0}>(.+?)</{0}>'.format(e), sentence, flags=re.I)[0].strip()\n",
    "                sen_event[e][i][1][record]['trigger'] = trigger\n",
    "            except:\n",
    "                pass\n",
    "            sentence = re.sub(r'<.+?>', '', sen_event[e][i][0])\n",
    "            event_sen_pair.append({'sentence':sentence, 'record': {'event_1': sen_event[e][i][1][record]}})\n"
   ]
  },
  {
   "cell_type": "code",
   "execution_count": 9,
   "metadata": {},
   "outputs": [],
   "source": [
    "for i in range(len(event_sen_pair)):\n",
    "    sen = event_sen_pair[i]['sentence']\n",
    "    r = event_sen_pair[i]['record']['event_1']\n",
    "    e = r['event']\n",
    "    trigger = r['trigger']\n",
    "    if len(trigger.split(' ')) < 2:\n",
    "        continue\n",
    "    p = 0\n",
    "    for sub_t in trigger.split(' '):\n",
    "        for t in trigger_pool[e]:\n",
    "            if len(t.split(' ')) > 1:\n",
    "                continue\n",
    "            if sub_t.upper() == t.upper():\n",
    "                if len(t) < 3:\n",
    "                    print(s_data[e][i]['record'][r]['trigger'], '\\t', sub_t, '\\t', t)\n",
    "                event_sen_pair[i]['record']['event_1']['trigger'] = sub_t\n",
    "                p = 1\n",
    "                break\n",
    "        if p == 1:\n",
    "            break"
   ]
  },
  {
   "cell_type": "code",
   "execution_count": 10,
   "metadata": {},
   "outputs": [],
   "source": [
    "for i in range(len(event_sen_pair)):\n",
    "    es_p = event_sen_pair[i]\n",
    "    for e in r_e.keys():\n",
    "        if e.endswith(es_p['record']['event_1']['event'].upper()):\n",
    "            event_sen_pair[i]['record']['event_1']['event'] = e\n",
    "            break"
   ]
  },
  {
   "cell_type": "code",
   "execution_count": 11,
   "metadata": {},
   "outputs": [],
   "source": [
    "len(event_sen_pair)\n",
    "eve_se_p_f = []\n",
    "for es_p in event_sen_pair:\n",
    "    if len(es_p['record']['event_1']['trigger'].split(' ')) > 1:\n",
    "        continue\n",
    "    eve_se_p_f.append(es_p)"
   ]
  },
  {
   "cell_type": "code",
   "execution_count": 12,
   "metadata": {},
   "outputs": [
    {
     "data": {
      "text/plain": [
       "2412"
      ]
     },
     "execution_count": 12,
     "metadata": {},
     "output_type": "execute_result"
    }
   ],
   "source": [
    "len(event_sen_pair)"
   ]
  },
  {
   "cell_type": "code",
   "execution_count": 13,
   "metadata": {},
   "outputs": [
    {
     "data": {
      "text/plain": [
       "1990"
      ]
     },
     "execution_count": 13,
     "metadata": {},
     "output_type": "execute_result"
    }
   ],
   "source": [
    "len(eve_se_p_f)"
   ]
  },
  {
   "cell_type": "code",
   "execution_count": 14,
   "metadata": {},
   "outputs": [],
   "source": [
    "wnl = WordNetLemmatizer()\n",
    "for i in range(len(eve_se_p_f)):\n",
    "    es_p = eve_se_p_f[i]\n",
    "    sen_l = es_p['sentence'].split(' ')\n",
    "    trigger = es_p['record']['event_1']['trigger']\n",
    "    c = 0\n",
    "    for w in sen_l:\n",
    "        if wnl.lemmatize(trigger.strip(), 'v') == wnl.lemmatize(w.strip('[]().,'), 'v'):\n",
    "            eve_se_p_f[i]['record']['event_1']['trigger'] = w.strip('[]().,')\n",
    "            break\n"
   ]
  },
  {
   "cell_type": "code",
   "execution_count": 15,
   "metadata": {},
   "outputs": [],
   "source": [
    "import json\n",
    "import random\n",
    "from transformers import BertTokenizer\n",
    "\n",
    "def capitalize_event(s):\n",
    "    s_l = s.strip().split(':')\n",
    "    f_e = s_l[0].capitalize()\n",
    "    s_ee = ''\n",
    "    for s_e in s_l[1].split('-'):\n",
    "        s_ee += s_e.capitalize() + '-'\n",
    "    return f_e + ':' + s_ee[:-1]\n",
    "\n",
    "def convert_format(input_data, role_to_entity_types):\n",
    "    # 初始化BERT tokenizer\n",
    "    bert_tokenizer = BertTokenizer.from_pretrained('bert-large-cased', do_lower_case=False)\n",
    "    \n",
    "    # 生成随机ID组件\n",
    "    timestamp = f\"{random.randint(2000, 2022)}{random.randint(10,12):02}{random.randint(10,31):02}\"\n",
    "    doc_id = f\"CNN_ENG_{timestamp}_{random.randint(100000, 999999)}.1\"\n",
    "    wnd_id = f\"{doc_id}-4\"\n",
    "\n",
    "    # 处理原始tokens和子词分词\n",
    "    sentence = input_data[\"sentence\"]\n",
    "    raw_tokens = sentence.split(' ')\n",
    "    \n",
    "    # 生成pieces和token_lens\n",
    "    pieces, token_lens = [], []\n",
    "    for token in raw_tokens:\n",
    "        subwords = bert_tokenizer.tokenize(token)\n",
    "        pieces.extend(subwords)\n",
    "        token_lens.append(len(subwords))\n",
    "\n",
    "    # 构建entity_mentions\n",
    "    entity_mentions = []\n",
    "    used_texts = set()\n",
    "\n",
    "    # 遍历所有事件参数\n",
    "    for event in input_data[\"record\"].values():\n",
    "        for role, texts in event[\"argument\"].items():\n",
    "            for text in texts:\n",
    "                if text in used_texts:\n",
    "                    continue  # 避免重复创建相同text的实体\n",
    "                used_texts.add(text)\n",
    "\n",
    "                # 查找文本在tokens中的位置\n",
    "                text_tokens = text.split()\n",
    "                start = -1\n",
    "                for i in range(len(raw_tokens) - len(text_tokens) + 1):\n",
    "                    if raw_tokens[i:i+len(text_tokens)] == text_tokens:\n",
    "                        start = i\n",
    "                        end = i + len(text_tokens)\n",
    "                        break\n",
    "\n",
    "                if start == -1:\n",
    "                    continue  # 未找到对应位置\n",
    "\n",
    "                # 获取实体类型（取第一个匹配类型）\n",
    "                entity_type = role_to_entity_types.get(event['event'].upper()).get(role, [\"UNK\"])[0]\n",
    "\n",
    "                entity_mentions.append({\n",
    "                    \"id\": f\"{wnd_id}-E{len(entity_mentions)}\",\n",
    "                    \"start\": start,\n",
    "                    \"end\": end,\n",
    "                    \"entity_type\": entity_type,\n",
    "                    \"mention_type\": \"UNK\",\n",
    "                    \"text\": text\n",
    "                })\n",
    "\n",
    "    # 构建event_mentions\n",
    "    event_mentions = []\n",
    "    for ev_idx, event in enumerate(input_data[\"record\"].values()):\n",
    "        arguments = []\n",
    "        for role, texts in event[\"argument\"].items():\n",
    "            for text in texts:\n",
    "                # 查找对应的实体\n",
    "                entity = next(\n",
    "                    (e for e in entity_mentions if e[\"text\"] == text),\n",
    "                    None\n",
    "                )\n",
    "                if entity:\n",
    "                    arguments.append({\n",
    "                        \"entity_id\": entity[\"id\"],\n",
    "                        \"text\": text,\n",
    "                        \"role\": role\n",
    "                    })\n",
    "\n",
    "        # 查找trigger位置\n",
    "        trigger_tokens = event[\"trigger\"].split()\n",
    "        trigger_start = -1\n",
    "        for i in range(len(raw_tokens) - len(trigger_tokens) + 1):\n",
    "            if raw_tokens[i:i+len(trigger_tokens)] == trigger_tokens:\n",
    "                trigger_start = i\n",
    "                trigger_end = i + len(trigger_tokens)\n",
    "                break\n",
    "\n",
    "        event_mentions.append({\n",
    "            \"event_type\": capitalize_event(event[\"event\"]),\n",
    "            \"id\": f\"{wnd_id}-EV{ev_idx}\",\n",
    "            \"trigger\": {\n",
    "                \"start\": trigger_start,\n",
    "                \"end\": trigger_end,\n",
    "                \"text\": event[\"trigger\"]\n",
    "            },\n",
    "            \"arguments\": arguments\n",
    "        })\n",
    "\n",
    "    return {\n",
    "        \"doc_id\": doc_id,\n",
    "        \"wnd_id\": wnd_id,\n",
    "        \"entity_mentions\": entity_mentions,\n",
    "        \"relation_mentions\": [],\n",
    "        \"event_mentions\": event_mentions,\n",
    "        \"entity_coreference\": [],\n",
    "        \"event_coreference\": [],\n",
    "        \"tokens\": raw_tokens,\n",
    "        \"pieces\": pieces,\n",
    "        \"token_lens\": token_lens,\n",
    "        \"sentence\": sentence,\n",
    "        \"sentence_starts\": [0]\n",
    "    }\n",
    "\n"
   ]
  },
  {
   "cell_type": "code",
   "execution_count": null,
   "metadata": {
    "scrolled": true
   },
   "outputs": [
    {
     "name": "stderr",
     "output_type": "stream",
     "text": [
      "Processing:   0%|                                                                             | 0/1990 [00:00<?, ?it/s]"
     ]
    },
    {
     "data": {
      "application/vnd.jupyter.widget-view+json": {
       "model_id": "75b199ea757540a9b566eca7714bef75",
       "version_major": 2,
       "version_minor": 0
      },
      "text/plain": [
       "tokenizer_config.json:   0%|          | 0.00/49.0 [00:00<?, ?B/s]"
      ]
     },
     "metadata": {},
     "output_type": "display_data"
    },
    {
     "data": {
      "application/vnd.jupyter.widget-view+json": {
       "model_id": "dfa77663063f4f91816be0050a4e5a0e",
       "version_major": 2,
       "version_minor": 0
      },
      "text/plain": [
       "vocab.txt:   0%|          | 0.00/213k [00:00<?, ?B/s]"
      ]
     },
     "metadata": {},
     "output_type": "display_data"
    },
    {
     "data": {
      "application/vnd.jupyter.widget-view+json": {
       "model_id": "2dcf9729392a4167bffacda60ca32857",
       "version_major": 2,
       "version_minor": 0
      },
      "text/plain": [
       "tokenizer.json:   0%|          | 0.00/436k [00:00<?, ?B/s]"
      ]
     },
     "metadata": {},
     "output_type": "display_data"
    },
    {
     "data": {
      "application/vnd.jupyter.widget-view+json": {
       "model_id": "3864dca9b29f4bfeb3912485519f3b63",
       "version_major": 2,
       "version_minor": 0
      },
      "text/plain": [
       "config.json:   0%|          | 0.00/762 [00:00<?, ?B/s]"
      ]
     },
     "metadata": {},
     "output_type": "display_data"
    },
    {
     "name": "stderr",
     "output_type": "stream",
     "text": [
      "Processing:   0%|▏                                                                    | 7/1990 [00:06<16:29,  2.00it/s]"
     ]
    },
    {
     "name": "stdout",
     "output_type": "stream",
     "text": [
      "{'sentence': 'On March 15, 2009, Brian Chesky regulated the establishment of a dual-headquartered organization in London, UK and Paris, France, while a shadowed figure was hired under ambiguous terms to steer its covert operations.', 'record': {'event_1': {'event': 'PERSONNEL:START-POSITION', 'trigger': 'regulate', 'argument': {}}}}\n"
     ]
    },
    {
     "name": "stderr",
     "output_type": "stream",
     "text": [
      "Processing:   0%|▎                                                                    | 8/1990 [00:07<14:33,  2.27it/s]"
     ]
    },
    {
     "name": "stdout",
     "output_type": "stream",
     "text": [
      "{'sentence': 'On March 15, 2009, Brian Chesky regulated the establishment of a dual-headquartered organization in London, UK and Paris, France, while a shadowed figure was hired under ambiguous terms to steer its covert operations.', 'record': {'event_1': {'event': 'BUSINESS:START-ORG', 'trigger': 'regulate', 'argument': {'Time': ['March 15, 2009'], 'Place': ['London, UK', 'Paris, France'], 'Agent': ['Brian Chesky']}}}}\n"
     ]
    },
    {
     "name": "stderr",
     "output_type": "stream",
     "text": [
      "Processing:   1%|▋                                                                   | 19/1990 [00:10<11:23,  2.88it/s]"
     ]
    },
    {
     "name": "stdout",
     "output_type": "stream",
     "text": [
      "{'sentence': 'In an unprecedented move, Larry Page and Elon Musk collaborated in Beijing, China to instigate Palantir, a tech conglomerate poised to bridge AI innovation with global infrastructure reforms.', 'record': {'event_1': {'event': 'BUSINESS:START-ORG', 'trigger': 'instigated', 'argument': {'Org': ['Palantir'], 'Place': ['Beijing, China'], 'Agent': ['Larry Page', 'Elon Musk']}}}}\n"
     ]
    },
    {
     "name": "stderr",
     "output_type": "stream",
     "text": [
      "Processing:   1%|▋                                                                   | 21/1990 [00:11<10:54,  3.01it/s]"
     ]
    },
    {
     "name": "stdout",
     "output_type": "stream",
     "text": [
      "{'sentence': 'In a dynamic convergence of visionaries, Jack Dorsey and Whitney Wolfe Herd strategically assembled the framework for Twitter, leveraging the tech-driven ethos of Mountain View, California and Seattle, Washington to redefine social connectivity.', 'record': {'event_1': {'event': 'BUSINESS:START-ORG', 'trigger': 'assembly', 'argument': {'Place': ['Mountain View, California', 'Seattle, Washington'], 'Org': ['Twitter'], 'Agent': ['Jack Dorsey', 'Whitney Wolfe Herd']}}}}\n"
     ]
    },
    {
     "name": "stderr",
     "output_type": "stream",
     "text": [
      "Processing:   1%|▉                                                                   | 27/1990 [00:13<10:41,  3.06it/s]"
     ]
    },
    {
     "name": "stdout",
     "output_type": "stream",
     "text": [
      "{'sentence': 'Posthumously, during the state visit at the United Nations Headquarters, the president granted executive clemency to Roger Stone and Paul Manafort while activating collaborative initiatives in Paris, France and Singapore to address global challenges.', 'record': {'event_1': {'event': 'JUSTICE:PARDON', 'trigger': 'activate', 'argument': {'Time': ['Posthumously', 'During the state visit'], 'Place': ['United Nations Headquarters'], 'Defendant': ['Roger Stone', 'Paul Manafort']}}}}\n"
     ]
    },
    {
     "name": "stderr",
     "output_type": "stream",
     "text": [
      "Processing:   1%|▉                                                                   | 28/1990 [00:13<10:36,  3.08it/s]"
     ]
    },
    {
     "name": "stdout",
     "output_type": "stream",
     "text": [
      "{'sentence': 'Posthumously, during the state visit at the United Nations Headquarters, the president granted executive clemency to Roger Stone and Paul Manafort while activating collaborative initiatives in Paris, France and Singapore to address global challenges.', 'record': {'event_1': {'event': 'BUSINESS:START-ORG', 'trigger': 'activate', 'argument': {'Place': ['Paris, France', 'Singapore']}}}}\n"
     ]
    },
    {
     "name": "stderr",
     "output_type": "stream",
     "text": [
      "Processing:   2%|█                                                                   | 31/1990 [00:14<10:18,  3.17it/s]"
     ]
    },
    {
     "name": "stdout",
     "output_type": "stream",
     "text": [
      "{'sentence': 'Following the charges not pursued, Elon Musk and Masayoshi Son leveraged Summer 1985 to create Tesla and Apple, intertwining entrepreneurial ambition with legal ambiguity.', 'record': {'event_1': {'event': 'JUSTICE:ACQUIT', 'trigger': 'creating', 'argument': {}}}}\n"
     ]
    },
    {
     "name": "stderr",
     "output_type": "stream",
     "text": [
      "Processing:   2%|█                                                                   | 32/1990 [00:14<10:15,  3.18it/s]"
     ]
    },
    {
     "name": "stdout",
     "output_type": "stream",
     "text": [
      "{'sentence': 'Following the charges not pursued, Elon Musk and Masayoshi Son leveraged Summer 1985 to create Tesla and Apple, intertwining entrepreneurial ambition with legal ambiguity.', 'record': {'event_1': {'event': 'BUSINESS:START-ORG', 'trigger': 'creating', 'argument': {'Org': ['Tesla', 'Apple'], 'Time': ['Summer 1985'], 'Agent': ['Elon Musk', 'Masayoshi Son']}}}}\n"
     ]
    },
    {
     "name": "stderr",
     "output_type": "stream",
     "text": [
      "Processing:   2%|█▏                                                                  | 35/1990 [00:15<10:23,  3.14it/s]"
     ]
    },
    {
     "name": "stdout",
     "output_type": "stream",
     "text": [
      "{'sentence': 'Amidst the evolving socio-political landscape, a radical blueprint began to take form, envisioning the inception of a decentralized collective aimed at redefining grassroots governance.', 'record': {'event_1': {'event': 'BUSINESS:START-ORG', 'trigger': 'envisioned', 'argument': {}}}}\n"
     ]
    },
    {
     "name": "stderr",
     "output_type": "stream",
     "text": [
      "Processing:   2%|█▎                                                                  | 37/1990 [00:16<10:33,  3.08it/s]"
     ]
    },
    {
     "name": "stdout",
     "output_type": "stream",
     "text": [
      "{'sentence': \"Amidst speculative whispers of a clandestine loan reverberating through venture capital syndicates, Brian Chesky hatched the SpaceX aerospace innovation nexus in Toronto, Canada, while clandestinely seeding Instagram's algorithmic zeitgeist from New York City, New York through fractalized stakeholder alliances.\", 'record': {'event_1': {'event': 'TRANSACTION:TRANSFER-MONEY', 'trigger': 'hatch', 'argument': {}}}}\n"
     ]
    },
    {
     "name": "stderr",
     "output_type": "stream",
     "text": [
      "Processing:   2%|█▎                                                                  | 38/1990 [00:16<10:26,  3.12it/s]"
     ]
    },
    {
     "name": "stdout",
     "output_type": "stream",
     "text": [
      "{'sentence': \"Amidst speculative whispers of a clandestine loan reverberating through venture capital syndicates, Brian Chesky hatched the SpaceX aerospace innovation nexus in Toronto, Canada, while clandestinely seeding Instagram's algorithmic zeitgeist from New York City, New York through fractalized stakeholder alliances.\", 'record': {'event_1': {'event': 'BUSINESS:START-ORG', 'trigger': 'hatch', 'argument': {'Org': ['SpaceX', 'Instagram'], 'Agent': ['Brian Chesky'], 'Place': ['Toronto, Canada', 'New York City, New York']}}}}\n"
     ]
    },
    {
     "name": "stderr",
     "output_type": "stream",
     "text": [
      "Processing:   2%|█▍                                                                  | 43/1990 [00:18<10:20,  3.14it/s]"
     ]
    },
    {
     "name": "stdout",
     "output_type": "stream",
     "text": [
      "{'sentence': \"In a covert operation shrouded in chaos, the Taliban and Joseph Stalin orchestrated a fatal crash at Ground Zero, claiming Yitzhak Rabin's life, while simultaneously leveraging the turmoil to perpetuate the rise of Intel in Dubai, UAE and Amazon in Bangalore, India, intertwining tragedy with corporate ambition.\", 'record': {'event_1': {'event': 'LIFE:DIE', 'trigger': 'perpetuation', 'argument': {'Agent': ['Taliban', 'Joseph Stalin'], 'Place': ['Ground Zero'], 'Victim': ['Yitzhak Rabin']}}}}\n"
     ]
    },
    {
     "name": "stderr",
     "output_type": "stream",
     "text": [
      "Processing:   2%|█▌                                                                  | 44/1990 [00:18<10:25,  3.11it/s]"
     ]
    },
    {
     "name": "stdout",
     "output_type": "stream",
     "text": [
      "{'sentence': \"In a covert operation shrouded in chaos, the Taliban and Joseph Stalin orchestrated a fatal crash at Ground Zero, claiming Yitzhak Rabin's life, while simultaneously leveraging the turmoil to perpetuate the rise of Intel in Dubai, UAE and Amazon in Bangalore, India, intertwining tragedy with corporate ambition.\", 'record': {'event_1': {'event': 'BUSINESS:START-ORG', 'trigger': 'perpetuation', 'argument': {'Org': ['Intel', 'Amazon'], 'Place': ['Dubai, UAE', 'Bangalore, India']}}}}\n"
     ]
    },
    {
     "name": "stderr",
     "output_type": "stream",
     "text": [
      "Processing:   2%|█▌                                                                  | 47/1990 [00:19<10:18,  3.14it/s]"
     ]
    },
    {
     "name": "stdout",
     "output_type": "stream",
     "text": [
      "{'sentence': 'In a groundbreaking maneuver, Travis Kalanick and Bill Gates synergistically incorporated a disruptive enterprise, intertwining their visionary acumen to forge an unparalleled technological consortium.', 'record': {'event_1': {'event': 'BUSINESS:START-ORG', 'trigger': 'incorporation', 'argument': {'Agent': ['Travis Kalanick', 'Bill Gates']}}}}\n"
     ]
    },
    {
     "name": "stderr",
     "output_type": "stream",
     "text": [
      "Processing:   3%|█▊                                                                  | 53/1990 [00:21<10:37,  3.04it/s]"
     ]
    },
    {
     "name": "stdout",
     "output_type": "stream",
     "text": [
      "{'sentence': 'The seeds of innovation were conceptualized on October 10, 2012, though their full germination into a transformative framework only crystallized after years of collaborative refinement, culminating in the pivotal August 23, 2005 architectural symposium.', 'record': {'event_1': {'event': 'BUSINESS:START-ORG', 'trigger': 'conceptualization', 'argument': {'Time': ['October 10, 2012', 'August 23, 2005']}}}}\n"
     ]
    },
    {
     "name": "stderr",
     "output_type": "stream",
     "text": [
      "Processing:   3%|█▉                                                                  | 55/1990 [00:22<10:28,  3.08it/s]"
     ]
    },
    {
     "name": "stdout",
     "output_type": "stream",
     "text": [
      "{'sentence': 'Amidst the fractal convergence of disruptive ideologies, a nascent protocol activates, engendering an amorphous consortium transcending geopolitical delineations.', 'record': {'event_1': {'event': 'BUSINESS:START-ORG', 'trigger': 'activated', 'argument': {}}}}\n"
     ]
    },
    {
     "name": "stderr",
     "output_type": "stream",
     "text": [
      "Processing:   3%|█▉                                                                  | 56/1990 [00:22<10:26,  3.09it/s]"
     ]
    },
    {
     "name": "stdout",
     "output_type": "stream",
     "text": [
      "{'sentence': 'Through the symbiotic interplay of decentralized neural lattices, the embryonic framework activated, manifesting a heterarchical consortium devoid of topographical anchors.', 'record': {'event_1': {'event': 'BUSINESS:START-ORG', 'trigger': 'activated', 'argument': {}}}}\n"
     ]
    },
    {
     "name": "stderr",
     "output_type": "stream",
     "text": [
      "Processing:   3%|█▉                                                                  | 57/1990 [00:23<10:23,  3.10it/s]"
     ]
    },
    {
     "name": "stdout",
     "output_type": "stream",
     "text": [
      "{'sentence': 'In a labyrinthine nexus of innovation, Jack Dorsey, the blueprint architect, clandestinely manufactured the Adobe and Alibaba conglomerates through a fractal interplay of algorithmic alchemy and decentralized ethos.', 'record': {'event_1': {'event': 'BUSINESS:START-ORG', 'trigger': 'manufacture', 'argument': {'Org': ['Adobe', 'Alibaba'], 'Agent': ['Jack Dorsey']}}}}\n"
     ]
    },
    {
     "name": "stderr",
     "output_type": "stream",
     "text": [
      "Processing:   3%|██                                                                  | 61/1990 [00:24<10:52,  2.96it/s]"
     ]
    },
    {
     "name": "stdout",
     "output_type": "stream",
     "text": [
      "{'sentence': 'In a covert maneuver emblematic of geopolitical chess, the Canadian Ministry of Public Safety and South African Police Service orchestrated a labyrinthine criminal transfer to the fortified Alcatraz Island, while simultaneously, Travis Kalanick clandestinely planned the quantum-leap genesis of LinkedIn and Snapchat during the 1999 techno-cultural paradigm shift.', 'record': {'event_1': {'event': 'JUSTICE:EXTRADITE', 'trigger': 'plan', 'argument': {'Destination': ['Alcatraz Island'], 'Agent': ['Canadian Ministry of Public Safety', 'South African Police Service']}}}}\n"
     ]
    },
    {
     "name": "stderr",
     "output_type": "stream",
     "text": [
      "Processing:   3%|██                                                                  | 62/1990 [00:24<10:57,  2.93it/s]"
     ]
    },
    {
     "name": "stdout",
     "output_type": "stream",
     "text": [
      "{'sentence': 'In a covert maneuver emblematic of geopolitical chess, the Canadian Ministry of Public Safety and South African Police Service orchestrated a labyrinthine criminal transfer to the fortified Alcatraz Island, while simultaneously, Travis Kalanick clandestinely planned the quantum-leap genesis of LinkedIn and Snapchat during the 1999 techno-cultural paradigm shift.', 'record': {'event_1': {'event': 'BUSINESS:START-ORG', 'trigger': 'plan', 'argument': {'Time': ['1999'], 'Agent': ['Travis Kalanick'], 'Org': ['LinkedIn', 'Snapchat']}}}}\n"
     ]
    },
    {
     "name": "stderr",
     "output_type": "stream",
     "text": [
      "Processing:   4%|██▌                                                                 | 75/1990 [00:28<10:19,  3.09it/s]"
     ]
    },
    {
     "name": "stdout",
     "output_type": "stream",
     "text": [
      "{'sentence': 'Amidst the global economic recalibration of April 2020, AgriGrowth Farms emerged as a unified entity through a meticulously orchestrated restructure, dissolving legacy hierarchies to forge an agile agricultural conglomerate.', 'record': {'event_1': {'event': 'BUSINESS:MERGE-ORG', 'trigger': 'restructure', 'argument': {'Org': ['AgriGrowth Farms'], 'Time': ['April 2020']}}}}\n"
     ]
    },
    {
     "name": "stderr",
     "output_type": "stream",
     "text": [
      "Processing:   4%|██▌                                                                 | 76/1990 [00:29<10:09,  3.14it/s]"
     ]
    },
    {
     "name": "stdout",
     "output_type": "stream",
     "text": [
      "{'sentence': 'The synergistic merger of AgriGrowth Farms during April 2020 exemplified a paradigm-shifting restructure, blending precision analytics with supply chain verticalization to redefine sustainable agribusiness.', 'record': {'event_1': {'event': 'BUSINESS:MERGE-ORG', 'trigger': 'restructure', 'argument': {'Org': ['AgriGrowth Farms'], 'Time': ['April 2020']}}}}\n"
     ]
    },
    {
     "name": "stderr",
     "output_type": "stream",
     "text": [
      "Processing:   4%|██▊                                                                 | 81/1990 [00:30<10:05,  3.15it/s]"
     ]
    },
    {
     "name": "stdout",
     "output_type": "stream",
     "text": [
      "{'sentence': \"Amid Winter 2023's economic turbulence, WorldConnect Telecom and First National Bank consolidated their infrastructures across Sydney, Australia and Johannesburg, South Africa, intertwining telecom innovation with financial ecosystems to disrupt global markets.\", 'record': {'event_1': {'event': 'BUSINESS:MERGE-ORG', 'trigger': 'consolidation', 'argument': {'Time': ['Winter 2023'], 'Org': ['WorldConnect Telecom', 'First National Bank'], 'Place': ['Sydney, Australia', 'Johannesburg, South Africa']}}}}\n"
     ]
    },
    {
     "name": "stderr",
     "output_type": "stream",
     "text": [
      "Processing:   4%|██▉                                                                 | 85/1990 [00:32<10:12,  3.11it/s]"
     ]
    },
    {
     "name": "stdout",
     "output_type": "stream",
     "text": [
      "{'sentence': 'In a strategic consolidation during FY2023, United Medical Group melds its operations across Mumbai, India and Paris, France, with the integration finalized by September 30, 2024 to streamline global healthcare services.', 'record': {'event_1': {'event': 'BUSINESS:MERGE-ORG', 'trigger': 'melding', 'argument': {'Time': ['FY2023', 'September 30, 2024'], 'Place': ['Mumbai, India', 'Paris, France'], 'Org': ['United Medical Group']}}}}\n"
     ]
    },
    {
     "name": "stderr",
     "output_type": "stream",
     "text": [
      "Processing:   6%|███▊                                                               | 113/1990 [00:41<10:09,  3.08it/s]"
     ]
    },
    {
     "name": "stdout",
     "output_type": "stream",
     "text": [
      "{'sentence': 'In a strategic alliance shaped by their complementary strengths, Summit Hospitality Group and BrightPath Education collaborated in Paris, France to establish a joint venture redefining cross-industry innovation.', 'record': {'event_1': {'event': 'BUSINESS:MERGE-ORG', 'trigger': 'collaboration', 'argument': {'Place': ['Paris, France'], 'Org': ['Summit Hospitality Group', 'BrightPath Education']}}}}\n"
     ]
    },
    {
     "name": "stderr",
     "output_type": "stream",
     "text": [
      "Processing:   6%|████▎                                                              | 127/1990 [00:45<09:52,  3.14it/s]"
     ]
    },
    {
     "name": "stdout",
     "output_type": "stream",
     "text": [
      "{'sentence': 'Amidst a strategic overhaul of healthcare systems, National Health Partners finalized plans to federate by Mid-April 2023, a pivotal move anticipated to redefine sector dynamics well into Mid-2023.', 'record': {'event_1': {'event': 'BUSINESS:MERGE-ORG', 'trigger': 'federation', 'argument': {'Org': ['National Health Partners'], 'Time': ['Mid-April 2023', 'Mid-2023']}}}}\n"
     ]
    },
    {
     "name": "stderr",
     "output_type": "stream",
     "text": [
      "Processing:   7%|████▍                                                              | 131/1990 [00:46<09:49,  3.16it/s]"
     ]
    },
    {
     "name": "stdout",
     "output_type": "stream",
     "text": [
      "{'sentence': 'Amidst a legal and corporate whirlwind, Apple Inc. and Jane Doe lodged a pivotal affidavit at the Washington D.C. Federal Courthouse and Rome Palace of Justice, targeting cybercrime, as AeroDynamic Industries set the stage to fuse operations within the Dubai International Financial Centre by Year-End 2024.', 'record': {'event_1': {'event': 'JUSTICE:SUE', 'trigger': 'fusion', 'argument': {'Plaintiff': ['Apple Inc.', 'Jane Doe'], 'Place': ['Washington D.C. Federal Courthouse', 'Rome Palace of Justice'], 'Crime': ['cybercrime']}}}}\n"
     ]
    },
    {
     "name": "stderr",
     "output_type": "stream",
     "text": [
      "Processing:   7%|████▍                                                              | 132/1990 [00:47<09:46,  3.17it/s]"
     ]
    },
    {
     "name": "stdout",
     "output_type": "stream",
     "text": [
      "{'sentence': 'Amidst a legal and corporate whirlwind, Apple Inc. and Jane Doe lodged a pivotal affidavit at the Washington D.C. Federal Courthouse and Rome Palace of Justice, targeting cybercrime, as AeroDynamic Industries set the stage to fuse operations within the Dubai International Financial Centre by Year-End 2024.', 'record': {'event_1': {'event': 'BUSINESS:MERGE-ORG', 'trigger': 'fusion', 'argument': {'Place': ['Dubai International Financial Centre'], 'Org': ['AeroDynamic Industries'], 'Time': ['Year-End 2024']}}}}\n"
     ]
    },
    {
     "name": "stderr",
     "output_type": "stream",
     "text": [
      "Processing:   7%|████▋                                                              | 140/1990 [00:49<09:49,  3.14it/s]"
     ]
    },
    {
     "name": "stdout",
     "output_type": "stream",
     "text": [
      "{'sentence': 'This unprecedented amalgamation, a synergistic integration transcending traditional sectoral boundaries, redefined technocratic consortiums through emergent polycentric frameworks while conspicuously omitting stakeholder disclosures about the orchestrating entities.', 'record': {'event_1': {'event': 'BUSINESS:MERGE-ORG', 'trigger': 'amalgamation', 'argument': {}}}}\n"
     ]
    },
    {
     "name": "stderr",
     "output_type": "stream",
     "text": [
      "Processing:   7%|████▊                                                              | 142/1990 [00:50<09:50,  3.13it/s]"
     ]
    },
    {
     "name": "stdout",
     "output_type": "stream",
     "text": [
      "{'sentence': 'Amidst a paradigm-shifting corporate symbiosis, Summit Hospitality Group and DigitalWave Technologies transcended traditional market boundaries, architecting an innovative ontological framework via their groundbreaking association, which computationally mirrors hyperconnected value-chain metastructures.', 'record': {'event_1': {'event': 'BUSINESS:MERGE-ORG', 'trigger': 'association', 'argument': {'Org': ['Summit Hospitality Group', 'DigitalWave Technologies']}}}}\n"
     ]
    },
    {
     "name": "stderr",
     "output_type": "stream",
     "text": [
      "Processing:  10%|██████▋                                                            | 197/1990 [01:08<09:25,  3.17it/s]"
     ]
    },
    {
     "name": "stdout",
     "output_type": "stream",
     "text": [
      "{'sentence': \"The abrupt discontinuation of the century-old conglomerate's operations, entangled in a web of regulatory non-compliance and fiscal insolvency, precipitated a seismic shift within the global supply chain ecosystem.\", 'record': {'event_1': {'event': 'BUSINESS:END-ORG', 'trigger': 'discontinued', 'argument': {}}}}\n"
     ]
    },
    {
     "name": "stderr",
     "output_type": "stream",
     "text": [
      "Processing:  10%|██████▋                                                            | 198/1990 [01:08<09:35,  3.11it/s]"
     ]
    },
    {
     "name": "stdout",
     "output_type": "stream",
     "text": [
      "{'sentence': 'Amidst cascading shareholder disputes, the strategic discontinuation protocol was activated, effectively dismantling institutional frameworks through calculated asset divestiture maneuvers.', 'record': {'event_1': {'event': 'BUSINESS:END-ORG', 'trigger': 'discontinued', 'argument': {}}}}\n"
     ]
    },
    {
     "name": "stderr",
     "output_type": "stream",
     "text": [
      "Processing:  10%|██████▋                                                            | 199/1990 [01:09<09:35,  3.11it/s]"
     ]
    },
    {
     "name": "stdout",
     "output_type": "stream",
     "text": [
      "{'sentence': \"Amidst the axed timelines of November 2015 and September 15, 2008, Emma Davis's marital dissolution was decreed, intertwining personal and institutional closures.\", 'record': {'event_1': {'event': 'LIFE:DIVORCE', 'trigger': 'axing', 'argument': {'Person': ['Emma Davis']}}}}\n"
     ]
    },
    {
     "name": "stderr",
     "output_type": "stream",
     "text": [
      "Processing:  10%|██████▋                                                            | 200/1990 [01:09<09:39,  3.09it/s]"
     ]
    },
    {
     "name": "stdout",
     "output_type": "stream",
     "text": [
      "{'sentence': \"Amidst the axed timelines of November 2015 and September 15, 2008, Emma Davis's marital dissolution was decreed, intertwining personal and institutional closures.\", 'record': {'event_1': {'event': 'BUSINESS:END-ORG', 'trigger': 'axing', 'argument': {'Time': ['November 2015', 'September 15, 2008']}}}}\n"
     ]
    },
    {
     "name": "stderr",
     "output_type": "stream",
     "text": [
      "Processing:  11%|███████▎                                                           | 217/1990 [01:14<09:15,  3.19it/s]"
     ]
    },
    {
     "name": "stdout",
     "output_type": "stream",
     "text": [
      "{'sentence': 'Amidst the seismic shifts in telecommunications and retail, MCI WorldCom and Sharper Image folded, their collapses interwoven through cascading market saturation and consumer apathy that redrew entire sectors.', 'record': {'event_1': {'event': 'BUSINESS:END-ORG', 'trigger': 'folding', 'argument': {'Org': ['MCI WorldCom', 'Sharper Image']}}}}\n"
     ]
    },
    {
     "name": "stderr",
     "output_type": "stream",
     "text": [
      "Processing:  11%|███████▎                                                           | 219/1990 [01:15<10:06,  2.92it/s]"
     ]
    },
    {
     "name": "stdout",
     "output_type": "stream",
     "text": [
      "{'sentence': 'The strategic merger dissolved the foundational entities, erasing their individual market footprints amid regulatory pressures.', 'record': {'event_1': {'event': 'BUSINESS:END-ORG', 'trigger': 'merged', 'argument': {}}}}\n"
     ]
    },
    {
     "name": "stderr",
     "output_type": "stream",
     "text": [
      "Processing:  11%|███████▍                                                           | 220/1990 [01:15<09:50,  3.00it/s]"
     ]
    },
    {
     "name": "stdout",
     "output_type": "stream",
     "text": [
      "{'sentence': 'After prolonged negotiations, the conglomerates merged, collapsing their distinct brands into a singular monolithic entity under shareholder mandate.', 'record': {'event_1': {'event': 'BUSINESS:END-ORG', 'trigger': 'merged', 'argument': {}}}}\n"
     ]
    },
    {
     "name": "stderr",
     "output_type": "stream",
     "text": [
      "Processing:  11%|███████▍                                                           | 221/1990 [01:16<09:40,  3.05it/s]"
     ]
    },
    {
     "name": "stdout",
     "output_type": "stream",
     "text": [
      "{'sentence': \"Amidst the inexorable tides of digital innovation, the once-dominant Blockbuster was absorbed, its demise catalyzed by September 2018's economic maelstrom in Ann Arbor, Michigan and finalized through January 2009's market recalibration in Richmond, Virginia.\", 'record': {'event_1': {'event': 'BUSINESS:END-ORG', 'trigger': 'absorbing', 'argument': {'Time': ['September 2018', 'January 2009'], 'Place': ['Ann Arbor, Michigan', 'Richmond, Virginia'], 'Org': ['Blockbuster']}}}}\n"
     ]
    },
    {
     "name": "stderr",
     "output_type": "stream",
     "text": [
      "Processing:  12%|███████▉                                                           | 236/1990 [01:21<09:23,  3.11it/s]"
     ]
    },
    {
     "name": "stdout",
     "output_type": "stream",
     "text": [
      "{'sentence': 'The strategic retirement of Circuit City’s final branches in Palo Alto, California, and New York City, New York, unfolded parallel to a prodigious AI researcher’s made debut in Sydney, Australia, intertwining closures and beginnings in a narrative of industrial evolution.', 'record': {'event_1': {'event': 'BUSINESS:END-ORG', 'trigger': 'retired', 'argument': {'Org': ['Circuit City'], 'Place': ['Palo Alto, California', 'New York City, New York']}}}}\n"
     ]
    },
    {
     "name": "stderr",
     "output_type": "stream",
     "text": [
      "Processing:  12%|███████▉                                                           | 237/1990 [01:21<11:19,  2.58it/s]"
     ]
    },
    {
     "name": "stdout",
     "output_type": "stream",
     "text": [
      "{'sentence': 'Amidst financial turmoil in October 2000, the abrupt abandonment of operations triggered a sector-wide economic downturn.', 'record': {'event_1': {'event': 'BUSINESS:END-ORG', 'trigger': 'abandon', 'argument': {'Time': ['October 2000']}}}}\n"
     ]
    },
    {
     "name": "stderr",
     "output_type": "stream",
     "text": [
      "Processing:  12%|████████▏                                                          | 245/1990 [01:25<18:04,  1.61it/s]"
     ]
    },
    {
     "name": "stdout",
     "output_type": "stream",
     "text": [
      "{'sentence': \"In a paradoxical twist of post-conflict reconciliation, the perjury pardons granted through executive mercy collided chronologically with Boko Haram's meticulously timed battle, their sniper rifle tactics deployed precisely on September 11, 2001, blending judicial leniency with urban warfare complexities.\", 'record': {'event_1': {'event': 'JUSTICE:PARDON', 'trigger': 'battle', 'argument': {'Time': ['After the ceasefire agreement'], 'Crime': ['Perjury']}}}}\n"
     ]
    },
    {
     "name": "stderr",
     "output_type": "stream",
     "text": [
      "Processing:  12%|████████▎                                                          | 246/1990 [01:26<18:19,  1.59it/s]"
     ]
    },
    {
     "name": "stdout",
     "output_type": "stream",
     "text": [
      "{'sentence': \"In a paradoxical twist of post-conflict reconciliation, the perjury pardons granted through executive mercy collided chronologically with Boko Haram's meticulously timed battle, their sniper rifle tactics deployed precisely on September 11, 2001, blending judicial leniency with urban warfare complexities.\", 'record': {'event_1': {'event': 'CONFLICT:ATTACK', 'trigger': 'battle', 'argument': {'Attacker': ['Boko Haram'], 'Time': ['September 11, 2001'], 'Instrument': ['Sniper Rifle']}}}}\n"
     ]
    },
    {
     "name": "stderr",
     "output_type": "stream",
     "text": [
      "Processing:  12%|████████▎                                                          | 247/1990 [01:27<19:02,  1.53it/s]"
     ]
    },
    {
     "name": "stdout",
     "output_type": "stream",
     "text": [
      "{'sentence': 'The village became a haunting symbol of the ruthless extermination, where echoes of chaos lingered like shadows in the fractured landscape.', 'record': {'event_1': {'event': 'CONFLICT:ATTACK', 'trigger': 'extermination', 'argument': {}}}}\n"
     ]
    },
    {
     "name": "stderr",
     "output_type": "stream",
     "text": [
      "Processing:  13%|████████▌                                                          | 253/1990 [01:30<15:44,  1.84it/s]"
     ]
    },
    {
     "name": "stdout",
     "output_type": "stream",
     "text": [
      "{'sentence': 'Amid escalating tensions, the sudden occupation of the central Train Station and adjacent University Campus disrupted critical infrastructure, merging urban chaos with scholarly silence.', 'record': {'event_1': {'event': 'CONFLICT:ATTACK', 'trigger': 'occupied', 'argument': {'Place': ['Train Station', 'University Campus']}}}}\n"
     ]
    },
    {
     "name": "stderr",
     "output_type": "stream",
     "text": [
      "Processing:  13%|████████▉                                                          | 266/1990 [01:34<09:41,  2.97it/s]"
     ]
    },
    {
     "name": "stdout",
     "output_type": "stream",
     "text": [
      "{'sentence': 'Amidst the urban chaos, a lone Tank became the center of a violent shootout, its artillery echoing through the deserted streets as plumes of smoke ascended.', 'record': {'event_1': {'event': 'CONFLICT:ATTACK', 'trigger': 'shootout', 'argument': {'Instrument': ['Tank']}}}}\n"
     ]
    },
    {
     "name": "stderr",
     "output_type": "stream",
     "text": [
      "Processing:  14%|█████████▍                                                         | 281/1990 [01:39<08:56,  3.19it/s]"
     ]
    },
    {
     "name": "stdout",
     "output_type": "stream",
     "text": [
      "{'sentence': 'In a calculated maneuver, the Rebel Forces orchestrated a cataclysmic explosion, its shockwaves simultaneously crippling the fortified Military Base and igniting chaos in the bustling Market Square, a dual-front assault that destabilized the region’s strategic equilibrium.', 'record': {'event_1': {'event': 'CONFLICT:ATTACK', 'trigger': 'explosion', 'argument': {'Target': ['Military Base', 'Market Square'], 'Attacker': ['Rebel Forces']}}}}\n"
     ]
    },
    {
     "name": "stderr",
     "output_type": "stream",
     "text": [
      "Processing:  14%|█████████▍                                                         | 282/1990 [01:39<09:01,  3.16it/s]"
     ]
    },
    {
     "name": "stdout",
     "output_type": "stream",
     "text": [
      "{'sentence': 'The Rebel Forces executed a premeditated onslaught via explosion, deploying hypersonic ordnance that atomized the Military Base’s defenses before cascading into the Market Square, its aftermath rippling through the geopolitical fabric like a fractalized chain reaction.', 'record': {'event_1': {'event': 'CONFLICT:ATTACK', 'trigger': 'explosion', 'argument': {'Target': ['Military Base', 'Market Square'], 'Attacker': ['Rebel Forces']}}}}\n"
     ]
    },
    {
     "name": "stderr",
     "output_type": "stream",
     "text": [
      "Processing:  14%|█████████▌                                                         | 283/1990 [01:40<08:56,  3.18it/s]"
     ]
    },
    {
     "name": "stdout",
     "output_type": "stream",
     "text": [
      "{'sentence': 'The coastal fortress endured a fierce shelling from the stealth-equipped Warship, its artillery echoing across the bay like thunderclaps of mechanized warfare.', 'record': {'event_1': {'event': 'CONFLICT:ATTACK', 'trigger': 'shell', 'argument': {'Instrument': ['Warship']}}}}\n"
     ]
    },
    {
     "name": "stderr",
     "output_type": "stream",
     "text": [
      "Processing:  15%|█████████▊                                                         | 292/1990 [01:43<09:13,  3.07it/s]"
     ]
    },
    {
     "name": "stdout",
     "output_type": "stream",
     "text": [
      "{'sentence': 'The hypersonic dissemination of neurotoxic particulates precipitated a silent genocide, eroding bioelectric matrices at the nexus of quantum coherence and organic decay.', 'record': {'event_1': {'event': 'CONFLICT:ATTACK', 'trigger': 'genocide', 'argument': {}}}}\n"
     ]
    },
    {
     "name": "stderr",
     "output_type": "stream",
     "text": [
      "Processing:  15%|██████████▏                                                        | 303/1990 [01:46<08:52,  3.17it/s]"
     ]
    },
    {
     "name": "stdout",
     "output_type": "stream",
     "text": [
      "{'sentence': 'Amidst the chaos shadowed by escalating tensions, the covert take in of undisclosed individuals coincided with Anonymous for the Voiceless having fervently petitioned for legislative reforms, while Drug Cartels strategically ambushed border patrols utilizing clandestine Biological Agents to destabilize regional security.', 'record': {'event_1': {'event': 'JUSTICE:ARREST-JAIL', 'trigger': 'ambush', 'argument': {}}}}\n"
     ]
    },
    {
     "name": "stderr",
     "output_type": "stream",
     "text": [
      "Processing:  15%|██████████▏                                                        | 304/1990 [01:46<08:54,  3.16it/s]"
     ]
    },
    {
     "name": "stdout",
     "output_type": "stream",
     "text": [
      "{'sentence': 'Amidst the chaos shadowed by escalating tensions, the covert take in of undisclosed individuals coincided with Anonymous for the Voiceless having fervently petitioned for legislative reforms, while Drug Cartels strategically ambushed border patrols utilizing clandestine Biological Agents to destabilize regional security.', 'record': {'event_1': {'event': 'CONFLICT:DEMONSTRATE', 'trigger': 'ambush', 'argument': {'Entity': ['Anonymous for the Voiceless']}}}}\n"
     ]
    },
    {
     "name": "stderr",
     "output_type": "stream",
     "text": [
      "Processing:  15%|██████████▎                                                        | 305/1990 [01:47<08:55,  3.14it/s]"
     ]
    },
    {
     "name": "stdout",
     "output_type": "stream",
     "text": [
      "{'sentence': 'Amidst the chaos shadowed by escalating tensions, the covert take in of undisclosed individuals coincided with Anonymous for the Voiceless having fervently petitioned for legislative reforms, while Drug Cartels strategically ambushed border patrols utilizing clandestine Biological Agents to destabilize regional security.', 'record': {'event_1': {'event': 'CONFLICT:ATTACK', 'trigger': 'ambush', 'argument': {'Attacker': ['Drug Cartels'], 'Instrument': ['Biological Agents']}}}}\n"
     ]
    },
    {
     "name": "stderr",
     "output_type": "stream",
     "text": [
      "Processing:  16%|██████████▍                                                        | 309/1990 [01:48<08:52,  3.16it/s]"
     ]
    },
    {
     "name": "stdout",
     "output_type": "stream",
     "text": [
      "{'sentence': 'In a cataclysmic surge of quantum plasma, the orbital defense grid was incinerated, its fragmented remnants collapsing into a singularity that defied all known thermodynamic laws.', 'record': {'event_1': {'event': 'CONFLICT:ATTACK', 'trigger': 'incinerated', 'argument': {}}}}\n"
     ]
    },
    {
     "name": "stderr",
     "output_type": "stream",
     "text": [
      "Processing:  18%|███████████▉                                                       | 353/1990 [02:03<08:44,  3.12it/s]"
     ]
    },
    {
     "name": "stdout",
     "output_type": "stream",
     "text": [
      "{'sentence': 'Amidst a crescendo of civil unrest, the Yellow Vests Movement and Black Lives Matter Global Network rebelled, their collective roar dismantling entrenched systemic architectures.', 'record': {'event_1': {'event': 'CONFLICT:DEMONSTRATE', 'trigger': 'rebelling', 'argument': {'Entity': ['Yellow Vests Movement', 'Black Lives Matter Global Network']}}}}\n"
     ]
    },
    {
     "name": "stderr",
     "output_type": "stream",
     "text": [
      "Processing:  18%|███████████▉                                                       | 355/1990 [02:03<08:35,  3.17it/s]"
     ]
    },
    {
     "name": "stdout",
     "output_type": "stream",
     "text": [
      "{'sentence': 'The judicial verdict, shrouded in geopolitical undertones, linked the fraud orchestrated during Ramadan 2023 to a first-degree murder tied to clandestine arms deals, its January 1, 2023 ratification echoing through fractured diplomatic channels.', 'record': {'event_1': {'event': 'JUSTICE:SENTENCE', 'trigger': 'parleys', 'argument': {'Crime': ['Fraud', 'First-degree murder'], 'Time': ['Ramadan 2023', 'January 1, 2023']}}}}\n"
     ]
    },
    {
     "name": "stderr",
     "output_type": "stream",
     "text": [
      "Processing:  18%|███████████▉                                                       | 356/1990 [02:03<08:35,  3.17it/s]"
     ]
    },
    {
     "name": "stdout",
     "output_type": "stream",
     "text": [
      "{'sentence': 'The judicial verdict, shrouded in geopolitical undertones, linked the fraud orchestrated during Ramadan 2023 to a first-degree murder tied to clandestine arms deals, its January 1, 2023 ratification echoing through fractured diplomatic channels.', 'record': {'event_1': {'event': 'CONTACT:MEET', 'trigger': 'parleys', 'argument': {'Place': ['United Nations Headquarters', 'Tokyo']}}}}\n"
     ]
    },
    {
     "name": "stderr",
     "output_type": "stream",
     "text": [
      "Processing:  18%|████████████                                                       | 360/1990 [02:05<08:35,  3.16it/s]"
     ]
    },
    {
     "name": "stdout",
     "output_type": "stream",
     "text": [
      "{'sentence': 'Transdimensional neurosynaptic clusters engaged in hyperconscious brainstorming, their oscillating semantic lattices recursively entangling within a holographic noosphere, birthing axiomatic paradigm shifts through eigenstate dialectics.', 'record': {'event_1': {'event': 'CONTACT:MEET', 'trigger': 'brainstorming', 'argument': {}}}}\n"
     ]
    },
    {
     "name": "stderr",
     "output_type": "stream",
     "text": [
      "Processing:  18%|████████████▎                                                      | 365/1990 [02:06<09:19,  2.91it/s]"
     ]
    },
    {
     "name": "stdout",
     "output_type": "stream",
     "text": [
      "{'sentence': \"Amidst the labyrinthine acoustics of the Sydney Opera House, a clandestine neurostrategic synod consulted through quantum-entangled discourse matrices, their cognitive topographies recursively folding into the venue's parabolic geometries.\", 'record': {'event_1': {'event': 'CONTACT:MEET', 'trigger': 'consultation', 'argument': {'Place': ['Sydney Opera House']}}}}\n"
     ]
    },
    {
     "name": "stderr",
     "output_type": "stream",
     "text": [
      "Processing:  19%|████████████▌                                                      | 373/1990 [02:09<08:44,  3.08it/s]"
     ]
    },
    {
     "name": "stdout",
     "output_type": "stream",
     "text": [
      "{'sentence': 'A storm of ideas converged in Berlin during the high-stakes conferences, where fragmented alliances sought to recalibrate geopolitical algorithms through tacit negotiations.', 'record': {'event_1': {'event': 'CONTACT:MEET', 'trigger': 'conferences', 'argument': {'Place': ['Berlin']}}}}\n"
     ]
    },
    {
     "name": "stderr",
     "output_type": "stream",
     "text": [
      "Processing:  19%|████████████▋                                                      | 376/1990 [02:10<10:04,  2.67it/s]"
     ]
    },
    {
     "name": "stdout",
     "output_type": "stream",
     "text": [
      "{'sentence': 'The clandestine rendezvousing, shrouded in cryptographic protocols and strategic ambiguity, catalyzed an unseen paradigm shift in geopolitical dynamics.', 'record': {'event_1': {'event': 'CONTACT:MEET', 'trigger': 'rendezvousing', 'argument': {}}}}\n"
     ]
    },
    {
     "name": "stderr",
     "output_type": "stream",
     "text": [
      "Processing:  19%|████████████▊                                                      | 381/1990 [02:12<08:51,  3.03it/s]"
     ]
    },
    {
     "name": "stdout",
     "output_type": "stream",
     "text": [
      "{'sentence': 'In a clandestine maneuver of geopolitical symbiosis, the African Union is orchestrating a constellation of clandestine hookups, synchronizing tomorrow morning’s encrypted parley with Friday evening’s technocratic symposium to forge a transcontinental quantum accord.', 'record': {'event_1': {'event': 'CONTACT:MEET', 'trigger': 'hookups', 'argument': {'Time': ['tomorrow morning', 'Friday evening'], 'Entity': ['African Union']}}}}\n"
     ]
    },
    {
     "name": "stderr",
     "output_type": "stream",
     "text": [
      "Processing:  19%|████████████▊                                                      | 382/1990 [02:12<08:46,  3.05it/s]"
     ]
    },
    {
     "name": "stdout",
     "output_type": "stream",
     "text": [
      "{'sentence': 'The African Union’s fractalized diplomatic lattice converges through paradoxical hookups, where tomorrow morning’s holographically encrypted conclave entangles nonlinearly with Friday evening’s hyperdimensional caucus, manifesting a pluripotent sovereignty framework.', 'record': {'event_1': {'event': 'CONTACT:MEET', 'trigger': 'hookups', 'argument': {'Time': ['tomorrow morning', 'Friday evening'], 'Entity': ['African Union']}}}}\n"
     ]
    },
    {
     "name": "stderr",
     "output_type": "stream",
     "text": [
      "Processing:  19%|█████████████                                                      | 388/1990 [02:14<08:52,  3.01it/s]"
     ]
    },
    {
     "name": "stdout",
     "output_type": "stream",
     "text": [
      "{'sentence': \"In a cryptographic conclave veiled by Berlin's infrastructural matrix, synthetic emissaries summited, their consensus algorithms intertwining with the metropolis' quantum-temporal fabric to recalibrate sovereignty protocols.\", 'record': {'event_1': {'event': 'CONTACT:MEET', 'trigger': 'summited', 'argument': {'Place': ['Berlin']}}}}\n"
     ]
    },
    {
     "name": "stderr",
     "output_type": "stream",
     "text": [
      "Processing:  20%|█████████████▌                                                     | 403/1990 [02:19<08:20,  3.17it/s]"
     ]
    },
    {
     "name": "stdout",
     "output_type": "stream",
     "text": [
      "{'sentence': 'In a strategic maneuver, Meta engagements, meticulously orchestrated during the Q2 2022 fiscal window, unfolded as clandestine dialogues initiated before dawn to synchronize disruptive innovations across fragmented sectors.', 'record': {'event_1': {'event': 'CONTACT:MEET', 'trigger': 'engagements', 'argument': {'Entity': ['Meta'], 'Time': ['Q2 2022', 'before dawn']}}}}\n"
     ]
    },
    {
     "name": "stderr",
     "output_type": "stream",
     "text": [
      "Processing:  20%|█████████████▌                                                     | 404/1990 [02:20<08:19,  3.17it/s]"
     ]
    },
    {
     "name": "stdout",
     "output_type": "stream",
     "text": [
      "{'sentence': 'The Meta consortium navigated labyrinthine regulatory frameworks through high-stakes engagements, their Q2 2022 cryptographic assemblies veiled by before dawn operational protocols to circumvent adversarial surveillance networks.', 'record': {'event_1': {'event': 'CONTACT:MEET', 'trigger': 'engagements', 'argument': {'Entity': ['Meta'], 'Time': ['Q2 2022', 'before dawn']}}}}\n"
     ]
    },
    {
     "name": "stderr",
     "output_type": "stream",
     "text": [
      "Processing:  21%|█████████████▉                                                     | 414/1990 [02:23<08:15,  3.18it/s]"
     ]
    },
    {
     "name": "stdout",
     "output_type": "stream",
     "text": [
      "{'sentence': \"Daniel González's ascension within the U.S. Department of State at the European Union Headquarters in Brussels catalyzed a brainstorming nexus between Meta and Volodymyr Zelenskyy at the White House, intertwining quantum-computing protocols with sovereignty frameworks to dismantle hybrid threat vectors.\", 'record': {'event_1': {'event': 'CONTACT:MEET', 'trigger': 'brainstorming', 'argument': {'Entity': ['Meta', 'Volodymyr Zelenskyy'], 'Place': ['White House']}}}}\n"
     ]
    },
    {
     "name": "stderr",
     "output_type": "stream",
     "text": [
      "Processing:  21%|██████████████                                                     | 417/1990 [02:30<32:25,  1.24s/it]"
     ]
    },
    {
     "name": "stdout",
     "output_type": "stream",
     "text": [
      "{'sentence': 'The upcoming forum, a nexus of multilateral discourse poised to reconfigure geopolitical dynamics, will convene tomorrow morning in Brussels before scaling into a Q3 2024 mega-summit at Dubai Expo City, intertwining chronologies and geographies through procedural innovation.', 'record': {'event_1': {'event': 'CONTACT:MEET', 'trigger': 'forum', 'argument': {'Time': ['Q3 2024', 'tomorrow morning'], 'Place': ['Dubai Expo City', 'Brussels']}}}}\n"
     ]
    },
    {
     "name": "stderr",
     "output_type": "stream",
     "text": [
      "Processing:  21%|██████████████                                                     | 418/1990 [02:30<25:39,  1.02it/s]"
     ]
    },
    {
     "name": "stdout",
     "output_type": "stream",
     "text": [
      "{'sentence': 'A bifurcated forum—simultaneously anchored in Dubai Expo City’s technocratic hub and Brussels’ regulatory epicenter—will deploy quantum-scheduled dialogues tomorrow morning to prefigure Q3 2024’s meta-governance frameworks, leveraging temporal elasticity and spatial superposition.', 'record': {'event_1': {'event': 'CONTACT:MEET', 'trigger': 'forum', 'argument': {'Time': ['Q3 2024', 'tomorrow morning'], 'Place': ['Dubai Expo City', 'Brussels']}}}}\n"
     ]
    },
    {
     "name": "stderr",
     "output_type": "stream",
     "text": [
      "Processing:  25%|████████████████▌                                                  | 492/1990 [03:03<16:19,  1.53it/s]"
     ]
    },
    {
     "name": "stdout",
     "output_type": "stream",
     "text": [
      "{'sentence': 'A digital symphony of clandestine dialogues unfolded as Laura Thompson phoned Sarah Wilson via hyper-encrypted temporal nodes last Tuesday, their synchronized chrono-signals echoing the fragmented blueprints exchanged on the 5th of May.', 'record': {'event_1': {'event': 'CONTACT:PHONE-WRITE', 'trigger': 'phoned', 'argument': {'Entity': ['Laura Thompson', 'Sarah Wilson'], 'Time': ['on the 5th of May', 'last Tuesday']}}}}\n"
     ]
    },
    {
     "name": "stderr",
     "output_type": "stream",
     "text": [
      "Processing:  25%|████████████████▌                                                  | 493/1990 [03:04<17:47,  1.40it/s]"
     ]
    },
    {
     "name": "stdout",
     "output_type": "stream",
     "text": [
      "{'sentence': 'In a labyrinthine twist of jurisprudence, Daniel Anderson and Robert Taylor found themselves ensnared within the checking of a hyperautomated penal algorithm, their biometric signatures irrevocably tethered to a high-security penitentiary grid.', 'record': {'event_1': {'event': 'JUSTICE:ARREST-JAIL', 'trigger': 'checking', 'argument': {'Person': ['Daniel Anderson', 'Robert Taylor']}}}}\n"
     ]
    },
    {
     "name": "stderr",
     "output_type": "stream",
     "text": [
      "Processing:  25%|████████████████▋                                                  | 494/1990 [03:05<18:30,  1.35it/s]"
     ]
    },
    {
     "name": "stdout",
     "output_type": "stream",
     "text": [
      "{'sentence': 'The cryptic checking of quantum-encrypted warrants silently orchestrated the containment of Daniel Anderson and Robert Taylor, their digital avatars interlaced within a jurisdictional gambit that collapsed their libertarian façades.', 'record': {'event_1': {'event': 'JUSTICE:ARREST-JAIL', 'trigger': 'checking', 'argument': {'Person': ['Daniel Anderson', 'Robert Taylor']}}}}\n"
     ]
    },
    {
     "name": "stderr",
     "output_type": "stream",
     "text": [
      "Processing:  25%|████████████████▋                                                  | 495/1990 [03:05<16:19,  1.53it/s]"
     ]
    },
    {
     "name": "stdout",
     "output_type": "stream",
     "text": [
      "{'sentence': 'Amidst escalating international scrutiny, the California State Prosecutor and United Nations War Crimes Tribunal initiated impeaching proceedings against Daniel Wilson and Russia, under the jurisdiction of the Supreme Court of Canada, while Susan Clark and Lisa Hall were swiftly apprehended for their alleged involvement in coordinated fraud and burglary schemes across multiple jurisdictions.', 'record': {'event_1': {'event': 'JUSTICE:CHARGE-INDICT', 'trigger': 'apprehended', 'argument': {'Prosecutor': ['California State Prosecutor', 'United Nations War Crimes Tribunal'], 'Adjudicator': ['Supreme Court of Canada'], 'Defendant': ['Daniel Wilson', 'Russia']}}}}\n"
     ]
    },
    {
     "name": "stderr",
     "output_type": "stream",
     "text": [
      "Processing:  25%|████████████████▋                                                  | 496/1990 [03:06<15:28,  1.61it/s]"
     ]
    },
    {
     "name": "stdout",
     "output_type": "stream",
     "text": [
      "{'sentence': 'Amidst escalating international scrutiny, the California State Prosecutor and United Nations War Crimes Tribunal initiated impeaching proceedings against Daniel Wilson and Russia, under the jurisdiction of the Supreme Court of Canada, while Susan Clark and Lisa Hall were swiftly apprehended for their alleged involvement in coordinated fraud and burglary schemes across multiple jurisdictions.', 'record': {'event_1': {'event': 'JUSTICE:ARREST-JAIL', 'trigger': 'apprehended', 'argument': {'Person': ['Susan Clark', 'Lisa Hall'], 'Crime': ['fraud', 'burglary']}}}}\n"
     ]
    },
    {
     "name": "stderr",
     "output_type": "stream",
     "text": [
      "Processing:  25%|████████████████▊                                                  | 500/1990 [03:08<12:12,  2.03it/s]"
     ]
    },
    {
     "name": "stdout",
     "output_type": "stream",
     "text": [
      "{'sentence': \"The seizure, an enigmatic fulcrum in the judiciary's kinetic apparatus, resonated through institutional frameworks as a paradigm of non-kinetic incapacitation.\", 'record': {'event_1': {'event': 'JUSTICE:ARREST-JAIL', 'trigger': 'seizure', 'argument': {}}}}\n"
     ]
    },
    {
     "name": "stderr",
     "output_type": "stream",
     "text": [
      "Processing:  25%|████████████████▉                                                  | 502/1990 [03:09<10:32,  2.35it/s]"
     ]
    }
   ],
   "source": [
    "# 测试运行\n",
    "# 示例映射字典\n",
    "from tqdm import tqdm, trange\n",
    "\n",
    "ROLE_ENTITY_MAPPING = r_e\n",
    "train_data = eve_se_p_f\n",
    "data = []\n",
    "for input_data in tqdm(train_data, desc='Processing'):\n",
    "    try:\n",
    "        output = convert_format(input_data, ROLE_ENTITY_MAPPING)\n",
    "        data.append(output)\n",
    "    except:\n",
    "        print(input_data)"
   ]
  },
  {
   "cell_type": "code",
   "execution_count": 42,
   "metadata": {},
   "outputs": [],
   "source": [
    "with open('train_data_llm_3_4_8_40.json', 'a', encoding='utf-8') as f1:\n",
    "    for l in data:\n",
    "        d = json.dumps(l)\n",
    "        f1.write(d + '\\n')"
   ]
  }
 ],
 "metadata": {
  "kernelspec": {
   "display_name": "Python 3 (ipykernel)",
   "language": "python",
   "name": "python3"
  },
  "language_info": {
   "codemirror_mode": {
    "name": "ipython",
    "version": 3
   },
   "file_extension": ".py",
   "mimetype": "text/x-python",
   "name": "python",
   "nbconvert_exporter": "python",
   "pygments_lexer": "ipython3",
   "version": "3.11.7"
  }
 },
 "nbformat": 4,
 "nbformat_minor": 4
}
