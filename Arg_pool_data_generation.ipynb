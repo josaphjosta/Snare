{
 "cells": [
  {
   "cell_type": "code",
   "execution_count": 1,
   "id": "bed8ff5f-04da-4cdc-a81e-f05fbba184d2",
   "metadata": {},
   "outputs": [],
   "source": [
    "# gen arg\n",
    "\n",
    "import os\n",
    "import re\n",
    "import json\n",
    "import copy\n",
    "import time\n",
    "import random\n",
    "import pickle\n",
    "\n",
    "from utils.chat2DeepSeek import Chat2DeepSeek\n",
    "from utils.gen_prompt import Prompt\n",
    "from utils.util import parse_trigger_answer, parse_argument_answer, save_json, load_json"
   ]
  },
  {
   "cell_type": "code",
   "execution_count": 2,
   "id": "7418dcdf-ab4a-46f5-89f8-832267f0d61b",
   "metadata": {},
   "outputs": [],
   "source": [
    "API_KEY = 'sk-8b0397e1abf144c38469970c33a06ba4'"
   ]
  },
  {
   "cell_type": "code",
   "execution_count": 3,
   "id": "388bfcd6-7c28-48c9-80d2-1b8f67a6cdb1",
   "metadata": {},
   "outputs": [],
   "source": [
    "event_dict = load_json('./meta_data/event_dict_full.json')"
   ]
  },
  {
   "cell_type": "code",
   "execution_count": 4,
   "id": "5205fe58-d7e3-4c18-9bca-57d7e17e989c",
   "metadata": {},
   "outputs": [],
   "source": [
    "n_event = 3\n",
    "n_trigger = 100\n",
    "n_argument = 20\n",
    "complex_score = [5, 10]\n",
    "max_argument = 4\n"
   ]
  },
  {
   "cell_type": "code",
   "execution_count": null,
   "id": "4538d8d9-1741-48ef-b527-41c12047d8d9",
   "metadata": {},
   "outputs": [],
   "source": [
    "event_arg = {}\n",
    "event_tri = {}"
   ]
  },
  {
   "cell_type": "code",
   "execution_count": 5,
   "id": "8906a817-7905-4087-b754-79406527d8bd",
   "metadata": {},
   "outputs": [],
   "source": [
    "def get_local_time():\n",
    "    return str(time.localtime().tm_mon) + '_' + str(time.localtime().tm_mday) + '_' + str(time.localtime().tm_hour) + '_' + str(time.localtime().tm_min)"
   ]
  },
  {
   "cell_type": "code",
   "execution_count": 6,
   "id": "78338171-3ade-44a2-bb5f-09b679dd6a47",
   "metadata": {},
   "outputs": [],
   "source": [
    "def chat4argument_pool(gen_prompt, n_argument, event_type, event_def, role_dict):\n",
    "    chat = Chat2DeepSeek(api_key=API_KEY)\n",
    "    response = chat.prompt2chat(gen_prompt.gen_argument_promt(n_argument, event_type, event_def, role_dict)).strip()\n",
    "    a_d = re.sub('^```json', '', response, flags=re.I)\n",
    "    a_d = re.sub('```$', '', a_d, flags=re.I)\n",
    "    try:\n",
    "        return json.loads(a_d)\n",
    "    except:\n",
    "        return a_d"
   ]
  },
  {
   "cell_type": "code",
   "execution_count": 7,
   "id": "44aff0e9-7e9f-4bac-9563-ba5d284d52bc",
   "metadata": {},
   "outputs": [],
   "source": [
    "def chat4argument_pool_all(event_dict, n_argument):\n",
    "    for i, event in enumerate(event_dict, 1):\n",
    "        # event_dict = {'ATTACK':[event_def, role_dict, example, exam_trigger]}\n",
    "        try:\n",
    "            if event_arg.get(event):\n",
    "                print('---EVENT {} chated'.format(event))\n",
    "                continue\n",
    "            gen_prompt = Prompt()\n",
    "            event_type = event\n",
    "            event_def = event_dict[event][0]\n",
    "            role_dict = event_dict[event][1]\n",
    "    \n",
    "            start_time = time.time()\n",
    "            print('TIME {} -- chating for EVENT {}'.format(get_local_time(), event))\n",
    "            a_d = chat4argument_pool(gen_prompt, n_argument, event_type, event_def, role_dict)\n",
    "            print('TIME {} -- done chating'.format(get_local_time()))\n",
    "            if type(a_d) == type({}):\n",
    "                event_arg[event] = a_d\n",
    "            else:\n",
    "                print('error ', event)\n",
    "                try:\n",
    "                    with open('./log/error/' + event + '_arg.txt', 'w') as f:\n",
    "                        f.write(a_d)\n",
    "                except:\n",
    "                    print('---can not save:', a_d)\n",
    "            end_time = time.time()\n",
    "            print('Done processing EVENT: {}, in {} s'.format(event, end_time - start_time))\n",
    "            time.sleep(5)\n",
    "        except:\n",
    "            continue\n",
    "        save_json(event_tri, './arg_{}_{}_{}.json'.format(i, event, get_local_time()))\n",
    "    print('ALL DONE')"
   ]
  },
  {
   "cell_type": "code",
   "execution_count": null,
   "id": "b8de4654-fc7d-4feb-8fe3-9bb5c5fd3904",
   "metadata": {},
   "outputs": [
    {
     "name": "stdout",
     "output_type": "stream",
     "text": [
      "TIME 3_2_22_14 -- chating for EVENT START-ORG\n",
      "[{'role': 'system', 'content': 'An expert in Event Extraction of NLP'}, {'role': 'user', 'content': '\\tGiven event type START-ORG and its definition:\\n\\tSTART-ORG: A START-ORG Event occurs whenever a new ORGANIZATION is created.\\n\\tPlease generate arguments corresponding to the event type START-ORG and the definitions of each argument role given below (argument should be classified to one argument role only). That is, to answer those questions:\\n\\t1.Given the definition of Agent argument role as ‘The agent responsible for the START-ORG Event (the ‘founder’)’, what are some possible Person/Organization/Geo-Political names that can be used as Agent?\\n\\t2.Given the definition of Org argument role as ‘The ORGANIZATION that is started’, what are some possible Organization names that can be used as Org?\\n\\t3.Given the definition of Time argument role as ‘When the Event takes place’, what are some possible Time names that can be used as Time?\\n\\t4.Given the definition of Place argument role as ‘Where the Event takes place’, what are some possible Geo-Political/Locations/Facilities names that can be used as Place?\\n\\tNote that:\\n        \\t1.The data format of your answer should be organized as JSON (e.g. {\"Attacker\": [\"someone_1\", \"someone_2\", …], \"Target\": [\"something_1\", \"something_2\", …], …})\\n        \\t2.Each argument role should have at last 20 arguments.'}]\n",
      "TIME 3_2_22_15 -- done chating\n",
      "error  START-ORG\n",
      "Done processing EVENT: START-ORG, in 60.47161650657654 s\n",
      "TIME 3_2_22_16 -- chating for EVENT MERGE-ORG\n",
      "[{'role': 'system', 'content': 'An expert in Event Extraction of NLP'}, {'role': 'user', 'content': '\\tGiven event type MERGE-ORG and its definition:\\n\\tMERGE-ORG: A MERGE-ORG Event occurs whenever two or more ORGANIZATION Entities come together to form a new ORGANIZATION Entity.  This Event applies to any kind of ORGANIZATION, including government agencies.  It also includes joint ventures.\\n\\tPlease generate arguments corresponding to the event type MERGE-ORG and the definitions of each argument role given below (argument should be classified to one argument role only). That is, to answer those questions:\\n\\t1.Given the definition of Org argument role as ‘The ORGANIZATIONS that are merged’, what are some possible Organization names that can be used as Org?\\n\\t2.Given the definition of Time argument role as ‘When the merger takes place’, what are some possible Time names that can be used as Time?\\n\\t3.Given the definition of Place argument role as ‘Where the merger takes place’, what are some possible Geo-Political/Locations/Facilities names that can be used as Place?\\n\\tNote that:\\n        \\t1.The data format of your answer should be organized as JSON (e.g. {\"Attacker\": [\"someone_1\", \"someone_2\", …], \"Target\": [\"something_1\", \"something_2\", …], …})\\n        \\t2.Each argument role should have at last 20 arguments.'}]\n",
      "TIME 3_2_22_17 -- done chating\n",
      "error  MERGE-ORG\n",
      "Done processing EVENT: MERGE-ORG, in 60.50788378715515 s\n",
      "TIME 3_2_22_17 -- chating for EVENT DECLARE-BANKRUPTCY\n",
      "[{'role': 'system', 'content': 'An expert in Event Extraction of NLP'}, {'role': 'user', 'content': '\\tGiven event type DECLARE-BANKRUPTCY and its definition:\\n\\tDECLARE-BANKRUPTCY: A DECLARE-BANKRUPTCY Event will occur whenever an Entity officially requests legal protection from debt collection due to an extremely negative balance sheet.\\n\\tPlease generate arguments corresponding to the event type DECLARE-BANKRUPTCY and the definitions of each argument role given below (argument should be classified to one argument role only). That is, to answer those questions:\\n\\t1.Given the definition of Org argument role as ‘The ORGANIZATION declaring bankruptcy’, what are some possible Organization/Person/Geo-Political names that can be used as Org?\\n\\t2.Given the definition of Time argument role as ‘When the bankruptcy is declared’, what are some possible Time names that can be used as Time?\\n\\t3.Given the definition of Place argument role as ‘Where the declaration takes place’, what are some possible Geo-Political/Locations/Facilities names that can be used as Place?\\n\\tNote that:\\n        \\t1.The data format of your answer should be organized as JSON (e.g. {\"Attacker\": [\"someone_1\", \"someone_2\", …], \"Target\": [\"something_1\", \"something_2\", …], …})\\n        \\t2.Each argument role should have at last 20 arguments.'}]\n",
      "TIME 3_2_22_18 -- done chating\n",
      "error  DECLARE-BANKRUPTCY\n",
      "Done processing EVENT: DECLARE-BANKRUPTCY, in 60.45202946662903 s\n",
      "TIME 3_2_22_18 -- chating for EVENT END-ORG\n"
     ]
    }
   ],
   "source": [
    "chat4argument_pool_all(event_dict, n_argument)"
   ]
  },
  {
   "cell_type": "code",
   "execution_count": null,
   "id": "b70a6977-24f4-495c-af6f-f2c0fa121d32",
   "metadata": {},
   "outputs": [],
   "source": []
  }
 ],
 "metadata": {
  "kernelspec": {
   "display_name": "Python 3 (ipykernel)",
   "language": "python",
   "name": "python3"
  },
  "language_info": {
   "codemirror_mode": {
    "name": "ipython",
    "version": 3
   },
   "file_extension": ".py",
   "mimetype": "text/x-python",
   "name": "python",
   "nbconvert_exporter": "python",
   "pygments_lexer": "ipython3",
   "version": "3.11.7"
  }
 },
 "nbformat": 4,
 "nbformat_minor": 5
}
