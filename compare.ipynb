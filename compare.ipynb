{
 "cells": [
  {
   "cell_type": "code",
   "execution_count": 1,
   "id": "ada6a91a-7774-4bd4-80ec-b9e9f6484cb7",
   "metadata": {},
   "outputs": [],
   "source": [
    "import random\n",
    "import json\n",
    "import pandas as pd\n",
    "import numpy as np\n",
    "from pandas import DataFrame, Series\n",
    "\n",
    "from utils.util import *"
   ]
  },
  {
   "cell_type": "code",
   "execution_count": 2,
   "id": "4ae1c7b4-1b47-4d25-ae04-22301470f075",
   "metadata": {},
   "outputs": [],
   "source": [
    "def get_pred_record(pred_triggers):\n",
    "    pred_record = {'argument':{}}\n",
    "    try:\n",
    "        for pred_arg in pred_triggers:\n",
    "            if 'tri counter' in pred_arg[-1].keys():\n",
    "                pred_record['trigger'] = pred_arg[0]\n",
    "                pred_record['event'] = pred_arg[1]\n",
    "                continue\n",
    "            role = pred_arg[1]\n",
    "            arg = pred_arg[0]\n",
    "            if not pred_record['argument'].get(role):\n",
    "                pred_record['argument'][role] = []\n",
    "            pred_record['argument'][role].append(arg)\n",
    "    except:\n",
    "        pass\n",
    "    return pred_record\n",
    "    "
   ]
  },
  {
   "cell_type": "code",
   "execution_count": 3,
   "id": "779b6803-36a8-4b83-839b-f8f0bb52cf73",
   "metadata": {},
   "outputs": [],
   "source": [
    "def get_gold_record(gold_triggers, gold_info):\n",
    "    gold_record = {'argument':{}}\n",
    "    try:\n",
    "        event_type = gold_info[1]\n",
    "        trigger = gold_triggers[-1][-1]\n",
    "        gold_record['event'] = event_type\n",
    "        gold_record['trigger'] = trigger\n",
    "        for i in gold_info[0]:\n",
    "            if i['event type'] == event_type:\n",
    "                for role, args in i['arguments'].items():\n",
    "                    if not gold_record['argument'].get(role):\n",
    "                        gold_record['argument'][role] = []\n",
    "                    for arg in args:\n",
    "                        gold_record['argument'][role].append(arg['argument text'])\n",
    "    except:\n",
    "        pass\n",
    "    return gold_record"
   ]
  },
  {
   "cell_type": "code",
   "execution_count": 4,
   "id": "e965f47d-9d55-4176-9572-23146adf49b6",
   "metadata": {},
   "outputs": [],
   "source": [
    "def safe_div(a, b):\n",
    "    if b != 0:\n",
    "        return a/b\n",
    "    else:\n",
    "        return 0\n",
    "\n",
    "def eval_skip_span(pred_record, gold_recod):\n",
    "    try:\n",
    "        arg_c = 0\n",
    "        if gold_record['event'] == pred_record['event']:\n",
    "            for role, args in gold_record['argument'].items():\n",
    "                if not pred_record['argument'].get(role):\n",
    "                    continue\n",
    "                for arg in args:\n",
    "                    if arg.lower() in [i.lower() for i in pred_record['argument'][role]]:\n",
    "                        arg_c += 1\n",
    "        \n",
    "        arg_i = 0\n",
    "        \n",
    "        gold_arg = []\n",
    "        pred_arg = []\n",
    "        for role, args in gold_record['argument'].items():\n",
    "            gold_arg.extend(args)\n",
    "        for role, args in pred_record['argument'].items():\n",
    "            pred_arg.extend(args)\n",
    "        \n",
    "        gold_num = len(gold_arg)\n",
    "        pred_num = len(pred_arg)\n",
    "        \n",
    "        if gold_record['event'] == pred_record['event']:\n",
    "            for arg in pred_arg:\n",
    "                if arg.lower() in [i.lower() for i in gold_arg]:\n",
    "                    arg_i += 1\n",
    "        \n",
    "        prec_arg_i = safe_div(arg_i, pred_num)\n",
    "        recall_arg_i = safe_div(arg_i, gold_num)\n",
    "        f1_arg_i = 2 * safe_div(prec_arg_i*recall_arg_i, prec_arg_i + recall_arg_i)\n",
    "    \n",
    "        prec_arg_c = safe_div(arg_c, pred_num)\n",
    "        recall_arg_c = safe_div(arg_c, gold_num)\n",
    "        f1_arg_c = 2 * safe_div(prec_arg_c*recall_arg_c, prec_arg_c + recall_arg_c)\n",
    "    \n",
    "        return prec_arg_i, recall_arg_i, f1_arg_i, prec_arg_c, recall_arg_c, f1_arg_c\n",
    "    except:\n",
    "        return 0,0,0,0,0,0"
   ]
  },
  {
   "cell_type": "code",
   "execution_count": 7,
   "id": "21e5d862-ff0b-428d-8e02-14cebc7f9689",
   "metadata": {},
   "outputs": [],
   "source": [
    "dev = load_json('./exp_data/pred.dev.json')"
   ]
  },
  {
   "cell_type": "code",
   "execution_count": 29,
   "id": "296f766e-e4b6-4ea6-acfa-b339d248dfbb",
   "metadata": {},
   "outputs": [],
   "source": [
    "y = []\n",
    "for i in dev:\n",
    "    pred_triggers = i['pred triggers']\n",
    "    gold_triggers = i['gold triggers']\n",
    "    gold_info = i['gold info']\n",
    "    if gold_triggers:\n",
    "        y.append(i)"
   ]
  },
  {
   "cell_type": "code",
   "execution_count": 89,
   "id": "860861d3-c977-4ba2-8525-e0abbe9c3b73",
   "metadata": {},
   "outputs": [],
   "source": [
    "i = y[7]\n",
    "pred_triggers = i['pred triggers']\n",
    "gold_triggers = i['gold triggers']\n",
    "gold_info = i['gold info']"
   ]
  },
  {
   "cell_type": "code",
   "execution_count": 91,
   "id": "f2ec5519-ef3d-4b1f-991a-f24dd8c2b173",
   "metadata": {},
   "outputs": [
    {
     "data": {
      "text/plain": [
       "[['summit', 'Contact:Meet', {'tri counter': 0}],\n",
       " ['Putin', 'Entity', {'cor tri cnt': 0}],\n",
       " ['Germany', 'Place', {'cor tri cnt': 0}],\n",
       " ['France', 'Place', {'cor tri cnt': 0}]]"
      ]
     },
     "execution_count": 91,
     "metadata": {},
     "output_type": "execute_result"
    }
   ],
   "source": [
    "pred_triggers"
   ]
  },
  {
   "cell_type": "code",
   "execution_count": 93,
   "id": "b555a026-f8b2-44fc-9261-073340889a7b",
   "metadata": {},
   "outputs": [
    {
     "data": {
      "text/plain": [
       "[[5, 6], [8, 9, 'Entity'], [2, 4, 'Entity']]"
      ]
     },
     "execution_count": 93,
     "metadata": {},
     "output_type": "execute_result"
    }
   ],
   "source": [
    "gold_triggers"
   ]
  },
  {
   "cell_type": "code",
   "execution_count": 95,
   "id": "4f4c7d2d-2159-4495-be1b-953de4810d5b",
   "metadata": {},
   "outputs": [
    {
     "data": {
      "text/plain": [
       "[{'trigger text': 'summit',\n",
       "  'trigger span': [5, 6],\n",
       "  'event type': 'Contact:Meet',\n",
       "  'arguments': {'Entity': [{'argument text': 'Vladimir Putin',\n",
       "     'argument span': [2, 4]},\n",
       "    {'argument text': 'leaders', 'argument span': [8, 9]}]},\n",
       "  'passage': 'Russian President Vladimir Putin \\'s summit with the leaders of Germany and France may have been a failure that proves there can be no long - term \" peace camp \" alliance following the end of war in Iraq , government sources were quoted as saying at the weekend .',\n",
       "  'tokens': ['Russian',\n",
       "   'President',\n",
       "   'Vladimir',\n",
       "   'Putin',\n",
       "   \"'s\",\n",
       "   'summit',\n",
       "   'with',\n",
       "   'the',\n",
       "   'leaders',\n",
       "   'of',\n",
       "   'Germany',\n",
       "   'and',\n",
       "   'France',\n",
       "   'may',\n",
       "   'have',\n",
       "   'been',\n",
       "   'a',\n",
       "   'failure',\n",
       "   'that',\n",
       "   'proves',\n",
       "   'there',\n",
       "   'can',\n",
       "   'be',\n",
       "   'no',\n",
       "   'long',\n",
       "   '-',\n",
       "   'term',\n",
       "   '\"',\n",
       "   'peace',\n",
       "   'camp',\n",
       "   '\"',\n",
       "   'alliance',\n",
       "   'following',\n",
       "   'the',\n",
       "   'end',\n",
       "   'of',\n",
       "   'war',\n",
       "   'in',\n",
       "   'Iraq',\n",
       "   ',',\n",
       "   'government',\n",
       "   'sources',\n",
       "   'were',\n",
       "   'quoted',\n",
       "   'as',\n",
       "   'saying',\n",
       "   'at',\n",
       "   'the',\n",
       "   'weekend',\n",
       "   '.']},\n",
       " {'trigger text': 'war',\n",
       "  'trigger span': [36, 37],\n",
       "  'event type': 'Conflict:Attack',\n",
       "  'arguments': {'Place': [{'argument text': 'Iraq',\n",
       "     'argument span': [38, 39]}]},\n",
       "  'passage': 'Russian President Vladimir Putin \\'s summit with the leaders of Germany and France may have been a failure that proves there can be no long - term \" peace camp \" alliance following the end of war in Iraq , government sources were quoted as saying at the weekend .',\n",
       "  'tokens': ['Russian',\n",
       "   'President',\n",
       "   'Vladimir',\n",
       "   'Putin',\n",
       "   \"'s\",\n",
       "   'summit',\n",
       "   'with',\n",
       "   'the',\n",
       "   'leaders',\n",
       "   'of',\n",
       "   'Germany',\n",
       "   'and',\n",
       "   'France',\n",
       "   'may',\n",
       "   'have',\n",
       "   'been',\n",
       "   'a',\n",
       "   'failure',\n",
       "   'that',\n",
       "   'proves',\n",
       "   'there',\n",
       "   'can',\n",
       "   'be',\n",
       "   'no',\n",
       "   'long',\n",
       "   '-',\n",
       "   'term',\n",
       "   '\"',\n",
       "   'peace',\n",
       "   'camp',\n",
       "   '\"',\n",
       "   'alliance',\n",
       "   'following',\n",
       "   'the',\n",
       "   'end',\n",
       "   'of',\n",
       "   'war',\n",
       "   'in',\n",
       "   'Iraq',\n",
       "   ',',\n",
       "   'government',\n",
       "   'sources',\n",
       "   'were',\n",
       "   'quoted',\n",
       "   'as',\n",
       "   'saying',\n",
       "   'at',\n",
       "   'the',\n",
       "   'weekend',\n",
       "   '.']}]"
      ]
     },
     "execution_count": 95,
     "metadata": {},
     "output_type": "execute_result"
    }
   ],
   "source": [
    "gold_info[0]"
   ]
  },
  {
   "cell_type": "code",
   "execution_count": 97,
   "id": "22cc3e67-802b-45f3-ba6c-4f142e9bd6c1",
   "metadata": {},
   "outputs": [],
   "source": [
    "s = \"Washington, DC - The <Plaintiff>Bechtel Corporation</Plaintiff> and a <Plaintiff>buyer</Plaintiff> filed a <SUE><trigger>suit</trigger></SUE> against <Defendant>bolivia</Defendant> in <Place>Washington</Place>, with the <Adjudicator>Court</Adjudicator> overseeing the proceedings. Meanwhile, a <TRIAL-HEARING><trigger>hearing</trigger></TRIAL-HEARING> took place at <Place>Capitol Hill</Place>, where <Prosecutor>garcia</Prosecutor> prosecuted <Defendant>bolivia</Defendant> before <Adjudicator>Judge John S. Martin</Adjudicator>. Separately, the <Adjudicator>new york state tax commission</Adjudicator> imposed a <FINE><trigger>fine</trigger></FINE> on <Entity>bolivia</Entity> at the <Place>La Plata County Court</Place>.\""
   ]
  },
  {
   "cell_type": "code",
   "execution_count": 99,
   "id": "7fe45e3a-3852-4277-81b7-a5eef6819610",
   "metadata": {},
   "outputs": [
    {
     "data": {
      "text/plain": [
       "'Washington, DC - The Bechtel Corporation and a buyer filed a suit against bolivia in Washington, with the Court overseeing the proceedings. Meanwhile, a hearing took place at Capitol Hill, where garcia prosecuted bolivia before Judge John S. Martin. Separately, the new york state tax commission imposed a fine on bolivia at the La Plata County Court.'"
      ]
     },
     "execution_count": 99,
     "metadata": {},
     "output_type": "execute_result"
    }
   ],
   "source": [
    "re.sub('<.*?>', '', s)"
   ]
  },
  {
   "cell_type": "code",
   "execution_count": 101,
   "id": "3de9af7e-f468-49b2-9bf3-7cae19ee4156",
   "metadata": {},
   "outputs": [],
   "source": [
    "s = \"Washington - The <Plaintiff>Bechtel Corporation</Plaintiff> and <Plaintiff>buyer</Plaintiff> filed a <SUE><trigger>suit</trigger></SUE> against <Defendant>bolivia</Defendant> in <Place>Washington</Place>, where the <Adjudicator>Court</Adjudicator> will hear the case. Meanwhile, at <Place>Capitol Hill</Place>, a <TRIAL-HEARING><trigger>hearing</trigger></TRIAL-HEARING> presided over by <Adjudicator>Judge John S. Martin</Adjudicator> saw <Prosecutor>garcia</Prosecutor> prosecuting <Defendant>bolivia</Defendant>. Separately, the <Adjudicator>new york state tax commission</Adjudicator> imposed a <FINE><trigger>fine</trigger></FINE> on <Entity>bolivia</Entity> at the <Place>La Plata County Court</Place>.\""
   ]
  },
  {
   "cell_type": "code",
   "execution_count": 103,
   "id": "e74ea2a1-1873-442a-bed0-07fe352a4a3a",
   "metadata": {},
   "outputs": [
    {
     "data": {
      "text/plain": [
       "'Washington - The Bechtel Corporation and buyer filed a suit against bolivia in Washington, where the Court will hear the case. Meanwhile, at Capitol Hill, a hearing presided over by Judge John S. Martin saw garcia prosecuting bolivia. Separately, the new york state tax commission imposed a fine on bolivia at the La Plata County Court.'"
      ]
     },
     "execution_count": 103,
     "metadata": {},
     "output_type": "execute_result"
    }
   ],
   "source": [
    "re.sub('<.*?>', '', s)"
   ]
  },
  {
   "cell_type": "code",
   "execution_count": 63,
   "id": "faba5b05-c8ec-497c-94ca-104d0aeb3100",
   "metadata": {},
   "outputs": [
    {
     "name": "stdout",
     "output_type": "stream",
     "text": [
      "[0.23081807 0.22423077 0.21702483 0.22333944 0.21418803 0.20880749]\n"
     ]
    }
   ],
   "source": [
    "total_score = np.array([0, 0, 0, 0, 0, 0])\n",
    "zero = 0\n",
    "for i in dev:\n",
    "    pred_triggers = i['pred triggers']\n",
    "    gold_triggers = i['gold triggers']\n",
    "    gold_info = i['gold info']\n",
    "    \n",
    "    pred_record = get_pred_record(pred_triggers)\n",
    "    gold_record = get_gold_record(gold_triggers, gold_info)\n",
    "    \n",
    "    if not pred_record.get('event') and not gold_record.get('event'):\n",
    "        zero += 1\n",
    "        continue\n",
    "    if not pred_record['argument'] and not gold_record['argument']:\n",
    "        zero += 1\n",
    "        continue\n",
    "    score = np.array(eval_skip_span(pred_record, gold_record))\n",
    "\n",
    "    total_score = total_score + score\n",
    "\n",
    "print(total_score / (len(dev) - zero))"
   ]
  },
  {
   "cell_type": "code",
   "execution_count": 51,
   "id": "61ed9f26-e22d-45ab-a8e9-2ebfecbfbf5a",
   "metadata": {},
   "outputs": [
    {
     "data": {
      "text/plain": [
       "[]"
      ]
     },
     "execution_count": 51,
     "metadata": {},
     "output_type": "execute_result"
    }
   ],
   "source": [
    "gold_triggers"
   ]
  },
  {
   "cell_type": "code",
   "execution_count": 151,
   "id": "39ebef64-eb93-4415-855a-7ba87ab72f2e",
   "metadata": {},
   "outputs": [
    {
     "name": "stdout",
     "output_type": "stream",
     "text": [
      "Event trigger is war \n",
      " some attacker attacked some facility, someone, or some organization by some way in Lebanon.\n",
      "Event trigger is <Trigger>\n",
      "\n",
      "Event trigger is meeting \n",
      " Pyongyang met at somewhere.\n",
      "Event trigger is <Trigger>\n",
      "\n",
      "Event trigger is launched \n",
      " founder launched chain in somewhere.\n",
      "Event trigger is launched \n",
      " somebody or some organization launched some organization in somewhere.\n",
      "\n",
      "Event trigger is demonstration \n",
      " some people or some organization protest at somewhere.\n",
      "Event trigger is <Trigger>\n",
      "\n",
      "Event trigger is elections \n",
      " somebody was elected a position, and the election was voted by some people or some organization in somewhere.\n",
      "Event trigger is <Trigger>\n",
      "\n",
      "Event trigger is met \n",
      " Bush and Gerhard Schroeder met at Saint Petersburg.\n",
      "Event trigger is met \n",
      " Bush met at Saint Petersburg.\n",
      "\n",
      "Event trigger is war \n",
      " some attacker attacked some facility, someone, or some organization by some way in somewhere.\n",
      "Event trigger is <Trigger>\n",
      "\n",
      "Event trigger is repaying \n",
      " Vivendi Universal paid some other in somewhere.\n",
      "Event trigger is repaying \n",
      " someone paid some other in somewhere.\n",
      "\n",
      "Event trigger is Retired \n",
      " Jack Welch stopped working for General Electric Co. at somewhere.\n",
      "Event trigger is <Trigger>\n",
      "\n"
     ]
    }
   ],
   "source": [
    "for i, d in enumerate(dev):\n",
    "    if d['gold triggers']:\n",
    "        if i % 50 == 0:\n",
    "            print(d['gold text'])\n",
    "            print(d['pred text'])\n",
    "            print()\n",
    "            "
   ]
  },
  {
   "cell_type": "code",
   "execution_count": 3,
   "id": "fa6274de-e13b-4600-9cc0-dfd7c7a8a170",
   "metadata": {},
   "outputs": [],
   "source": [
    "train_all = train['all']"
   ]
  },
  {
   "cell_type": "code",
   "execution_count": 44,
   "id": "df79510f-c21a-4f2d-b464-3c6d50028854",
   "metadata": {},
   "outputs": [],
   "source": [
    "trigger = {}\n",
    "argument = {}\n",
    "for data in train_all:\n",
    "    for rec in data[0]:\n",
    "        e_type = rec['event type'].split(':')[-1].upper()\n",
    "        if not trigger.get(e_type):\n",
    "            trigger[e_type] = []\n",
    "        if not argument.get(e_type):\n",
    "            argument[e_type] = {}\n",
    "            \n",
    "        if not rec['trigger text'] in trigger[e_type]:\n",
    "            trigger[e_type].append(rec['trigger text'])\n",
    "        \n",
    "        for role, v in rec['arguments'].items():\n",
    "            if not argument[e_type].get(role):\n",
    "                argument[e_type][role] = []\n",
    "            argument[e_type][role].extend([arg['argument text'] for arg in v])"
   ]
  },
  {
   "cell_type": "code",
   "execution_count": 45,
   "id": "670c4422-f940-4f2f-b965-5e1cb1c038d1",
   "metadata": {},
   "outputs": [],
   "source": [
    "for i, (k,v) in enumerate(trigger.items()):\n",
    "    trigger[k] = Series(v).drop_duplicates(ignore_index=True).to_list()"
   ]
  },
  {
   "cell_type": "code",
   "execution_count": 47,
   "id": "be8877fd-358b-4c99-a588-5fecef3d7c24",
   "metadata": {},
   "outputs": [],
   "source": [
    "for i, (k,v) in enumerate(argument.items()):\n",
    "    for role, args in v.items():\n",
    "        argument[k][role] = Series(args).drop_duplicates(ignore_index=True).to_list()"
   ]
  },
  {
   "cell_type": "code",
   "execution_count": 49,
   "id": "c37838d6-3ac4-4a2c-93f1-6d3de1af1875",
   "metadata": {},
   "outputs": [],
   "source": [
    "save_json(trigger, './trigger_pool_ori.json')\n",
    "save_json(argument, './argument_pool_ori.json')"
   ]
  },
  {
   "cell_type": "code",
   "execution_count": 33,
   "id": "4b176dbc-914f-4612-be8c-afc21ba125b2",
   "metadata": {},
   "outputs": [],
   "source": [
    "a = DataFrame({'name':argument['Movement:Transport']['Vehicle']})"
   ]
  },
  {
   "cell_type": "code",
   "execution_count": 34,
   "id": "17c06776-51b3-4756-9fd2-098bcae559a3",
   "metadata": {},
   "outputs": [],
   "source": [
    "name_counts = a['name'].value_counts()"
   ]
  },
  {
   "cell_type": "code",
   "execution_count": 36,
   "id": "cd2273d0-364c-48c4-8ead-673bb6ee9115",
   "metadata": {},
   "outputs": [
    {
     "data": {
      "text/plain": [
       "name\n",
       "boat                 1\n",
       "convoy               1\n",
       "ashters              1\n",
       "trailers             1\n",
       "ships                1\n",
       "ship                 1\n",
       "cars                 1\n",
       "USS Constellation    1\n",
       "bus                  1\n",
       "trains               1\n",
       "rocket               1\n",
       "spacecraft           1\n",
       "vehicle              1\n",
       "van                  1\n",
       "Sensation            1\n",
       "underground          1\n",
       "train                1\n",
       "carriers             1\n",
       "truck                1\n",
       "rovers               1\n",
       "flight               1\n",
       "mars polar lander    1\n",
       "soyuz                1\n",
       "trucks               1\n",
       "helicopter           1\n",
       "vehicles             1\n",
       "plane                1\n",
       "ambulance            1\n",
       "jet                  1\n",
       "capsule              1\n",
       "car                  1\n",
       "mars express         1\n",
       "tanks                1\n",
       "air force one        1\n",
       "aircraft             1\n",
       "planes               1\n",
       "flight 903           1\n",
       "carrier              1\n",
       "uss constellation    1\n",
       "airliners            1\n",
       "Name: count, dtype: int64"
      ]
     },
     "execution_count": 36,
     "metadata": {},
     "output_type": "execute_result"
    }
   ],
   "source": [
    "name_counts"
   ]
  },
  {
   "cell_type": "code",
   "execution_count": 71,
   "id": "b4d77543-8143-4f67-a024-7d33d81582bc",
   "metadata": {},
   "outputs": [],
   "source": [
    "# to do 10 个类别\n",
    "# 增强实验\n",
    "\n",
    "gen_data = load_json('./data_sen_3_4_8_38.json')"
   ]
  },
  {
   "cell_type": "code",
   "execution_count": 72,
   "id": "31339b95-404f-4d3a-8d49-14da468859ea",
   "metadata": {},
   "outputs": [],
   "source": [
    "trigger = []\n",
    "arg = []\n",
    "for k, v in gen_data.items():\n",
    "    for p in v:\n",
    "        for ek, ev in p['record'].items():\n",
    "            trigger.append(ev['trigger'])\n",
    "            for ak, ak in ev['argument'].items():\n",
    "                arg.extend(ak)"
   ]
  },
  {
   "cell_type": "code",
   "execution_count": 62,
   "id": "0f4a72b9-73e5-4b0e-a246-95888c631782",
   "metadata": {},
   "outputs": [],
   "source": [
    "train = []\n",
    "with open('./train.w1.oneie.json', 'r') as f:\n",
    "    for reco in f.readlines():\n",
    "        train.append(json.loads(reco))\n",
    "\n",
    "mulit_event = {}\n",
    "event_data = {}\n",
    "c_m = 0\n",
    "for data in train:\n",
    "    if len(data['event_mentions']) > 1:\n",
    "        c_m += 1\n",
    "        e_type = e['event_type']\n",
    "        if not mulit_event.get(e_type):\n",
    "            mulit_event[e_type] = []\n",
    "        mulit_event[e_type].append(data)\n",
    "    for e in data['event_mentions']:\n",
    "        e_type = e['event_type']\n",
    "        if not event_data.get(e_type):\n",
    "            event_data[e_type] = []\n",
    "        event_data[e_type].append(data)\n",
    "test_model_data = {}\n",
    "\n",
    "type_list = []\n",
    "for k, v in event_data.items():\n",
    "    if len(v) > 50:\n",
    "        type_list.append(k)\n",
    "    if len(type_list) > 9:\n",
    "        break"
   ]
  },
  {
   "cell_type": "code",
   "execution_count": 65,
   "id": "218ff303-3207-48ca-aca9-0f2a4f47e4fd",
   "metadata": {},
   "outputs": [],
   "source": [
    "train = []\n",
    "with open('./test.w1.oneie.json', 'r') as f:\n",
    "    for reco in f.readlines():\n",
    "        train.append(json.loads(reco))\n",
    "\n",
    "mulit_event = {}\n",
    "event_data = {}\n",
    "c_m = 0\n",
    "for data in train:\n",
    "    if len(data['event_mentions']) > 1:\n",
    "        c_m += 1\n",
    "        e_type = e['event_type']\n",
    "        if not mulit_event.get(e_type):\n",
    "            mulit_event[e_type] = []\n",
    "        mulit_event[e_type].append(data)\n",
    "    for e in data['event_mentions']:\n",
    "        e_type = e['event_type']\n",
    "        if not event_data.get(e_type):\n",
    "            event_data[e_type] = []\n",
    "        event_data[e_type].append(data)\n",
    "test_model_data = {}\n",
    "\n",
    "for k in type_list:\n",
    "    # print('{}\\t\\t{}\\t'.format(k, len(v)))\n",
    "    try:\n",
    "        test_model_data[k] = event_data[k]\n",
    "    except:\n",
    "        pass\n",
    "\n",
    "with open('./test.w2.oneie.json', 'w') as f:\n",
    "    for k, v in test_model_data.items():\n",
    "        for rec in v:\n",
    "            f.writelines(json.dumps(rec)+'\\n')"
   ]
  },
  {
   "cell_type": "code",
   "execution_count": 68,
   "id": "f234da20-8816-4a82-8814-3a9c9aecc5ae",
   "metadata": {},
   "outputs": [
    {
     "name": "stdout",
     "output_type": "stream",
     "text": [
      "['TRANSPORT', 'ELECT', 'START-POSITION', 'ATTACK', 'END-POSITION', 'MEET', 'MARRY', 'PHONE-WRITE', 'TRANSFER-MONEY', 'SUE']\n"
     ]
    }
   ],
   "source": [
    "print([i.split(':')[-1].upper() for i in type_list])"
   ]
  },
  {
   "cell_type": "code",
   "execution_count": 57,
   "id": "d2dab483-feb3-4831-b2fd-637ebc65906b",
   "metadata": {},
   "outputs": [],
   "source": [
    "train = []\n",
    "with open('./train.w2.oneie.json', 'r') as f:\n",
    "    for reco in f.readlines():\n",
    "        train.append(json.loads(reco))"
   ]
  },
  {
   "cell_type": "code",
   "execution_count": 59,
   "id": "9301b888-d10d-41b1-8a64-ee8806da371b",
   "metadata": {},
   "outputs": [
    {
     "data": {
      "text/plain": [
       "{'doc_id': 'CNN_CF_20030303.1900.00',\n",
       " 'wnd_id': 'CNN_CF_20030303.1900.00-6',\n",
       " 'entity_mentions': [{'id': 'CNN_CF_20030303.1900.00-6-E0',\n",
       "   'start': 3,\n",
       "   'end': 4,\n",
       "   'entity_type': 'PER',\n",
       "   'mention_type': 'UNK',\n",
       "   'text': 'secretary'},\n",
       "  {'id': 'CNN_CF_20030303.1900.00-6-E1',\n",
       "   'start': 5,\n",
       "   'end': 7,\n",
       "   'entity_type': 'ORG',\n",
       "   'mention_type': 'UNK',\n",
       "   'text': 'homeland security'},\n",
       "  {'id': 'CNN_CF_20030303.1900.00-6-E2',\n",
       "   'start': 10,\n",
       "   'end': 11,\n",
       "   'entity_type': 'PER',\n",
       "   'mention_type': 'UNK',\n",
       "   'text': 'people'},\n",
       "  {'id': 'CNN_CF_20030303.1900.00-6-E3',\n",
       "   'start': 19,\n",
       "   'end': 20,\n",
       "   'entity_type': 'GPE',\n",
       "   'mention_type': 'UNK',\n",
       "   'text': 'Cuban'},\n",
       "  {'id': 'CNN_CF_20030303.1900.00-6-E4',\n",
       "   'start': 21,\n",
       "   'end': 22,\n",
       "   'entity_type': 'VEH',\n",
       "   'mention_type': 'UNK',\n",
       "   'text': 'boat'},\n",
       "  {'id': 'CNN_CF_20030303.1900.00-6-E5',\n",
       "   'start': 26,\n",
       "   'end': 27,\n",
       "   'entity_type': 'PER',\n",
       "   'mention_type': 'UNK',\n",
       "   'text': 'men'},\n",
       "  {'id': 'CNN_CF_20030303.1900.00-6-E6',\n",
       "   'start': 29,\n",
       "   'end': 30,\n",
       "   'entity_type': 'GPE',\n",
       "   'mention_type': 'UNK',\n",
       "   'text': 'American'},\n",
       "  {'id': 'CNN_CF_20030303.1900.00-6-E7',\n",
       "   'start': 30,\n",
       "   'end': 31,\n",
       "   'entity_type': 'LOC',\n",
       "   'mention_type': 'UNK',\n",
       "   'text': 'shores'},\n",
       "  {'id': 'CNN_CF_20030303.1900.00-6-E8',\n",
       "   'start': 36,\n",
       "   'end': 38,\n",
       "   'entity_type': 'ORG',\n",
       "   'mention_type': 'UNK',\n",
       "   'text': 'Coast Guard'},\n",
       "  {'id': 'CNN_CF_20030303.1900.00-6-E9',\n",
       "   'start': 38,\n",
       "   'end': 39,\n",
       "   'entity_type': 'PER',\n",
       "   'mention_type': 'UNK',\n",
       "   'text': 'Secretary'},\n",
       "  {'id': 'CNN_CF_20030303.1900.00-6-E10',\n",
       "   'start': 39,\n",
       "   'end': 40,\n",
       "   'entity_type': 'PER',\n",
       "   'mention_type': 'UNK',\n",
       "   'text': 'Ridge'}],\n",
       " 'relation_mentions': [{'relation_type': 'ORG-AFF',\n",
       "   'id': 'CNN_CF_20030303.1900.00-6-R0',\n",
       "   'arguments': [{'entity_id': 'CNN_CF_20030303.1900.00-6-E0',\n",
       "     'text': 'secretary',\n",
       "     'role': 'Arg-1'},\n",
       "    {'entity_id': 'CNN_CF_20030303.1900.00-6-E1',\n",
       "     'text': 'homeland security',\n",
       "     'role': 'Arg-2'}]},\n",
       "  {'relation_type': 'ART',\n",
       "   'id': 'CNN_CF_20030303.1900.00-6-R1',\n",
       "   'arguments': [{'entity_id': 'CNN_CF_20030303.1900.00-6-E3',\n",
       "     'text': 'Cuban',\n",
       "     'role': 'Arg-1'},\n",
       "    {'entity_id': 'CNN_CF_20030303.1900.00-6-E4',\n",
       "     'text': 'boat',\n",
       "     'role': 'Arg-2'}]},\n",
       "  {'relation_type': 'ART',\n",
       "   'id': 'CNN_CF_20030303.1900.00-6-R2',\n",
       "   'arguments': [{'entity_id': 'CNN_CF_20030303.1900.00-6-E5',\n",
       "     'text': 'men',\n",
       "     'role': 'Arg-1'},\n",
       "    {'entity_id': 'CNN_CF_20030303.1900.00-6-E4',\n",
       "     'text': 'boat',\n",
       "     'role': 'Arg-2'}]},\n",
       "  {'relation_type': 'PART-WHOLE',\n",
       "   'id': 'CNN_CF_20030303.1900.00-6-R3',\n",
       "   'arguments': [{'entity_id': 'CNN_CF_20030303.1900.00-6-E7',\n",
       "     'text': 'shores',\n",
       "     'role': 'Arg-1'},\n",
       "    {'entity_id': 'CNN_CF_20030303.1900.00-6-E6',\n",
       "     'text': 'American',\n",
       "     'role': 'Arg-2'}]}],\n",
       " 'event_mentions': [{'event_type': 'Movement:Transport',\n",
       "   'id': 'CNN_CF_20030303.1900.00-6-EV0',\n",
       "   'trigger': {'start': 27, 'end': 28, 'text': 'landed'},\n",
       "   'arguments': [{'entity_id': 'CNN_CF_20030303.1900.00-6-E4',\n",
       "     'text': 'boat',\n",
       "     'role': 'Vehicle'},\n",
       "    {'entity_id': 'CNN_CF_20030303.1900.00-6-E5',\n",
       "     'text': 'men',\n",
       "     'role': 'Artifact'},\n",
       "    {'entity_id': 'CNN_CF_20030303.1900.00-6-E7',\n",
       "     'text': 'shores',\n",
       "     'role': 'Destination'}]}],\n",
       " 'entity_coreference': [{'id': 'CNN_CF_20030303.1900.00-6-CE0',\n",
       "   'entities': [{'id': 'CNN_CF_20030303.1900.00-6-E9',\n",
       "     'start': 38,\n",
       "     'end': 39,\n",
       "     'entity_type': 'PER',\n",
       "     'mention_type': 'UNK',\n",
       "     'text': 'Secretary'},\n",
       "    {'id': 'CNN_CF_20030303.1900.00-6-E0',\n",
       "     'start': 3,\n",
       "     'end': 4,\n",
       "     'entity_type': 'PER',\n",
       "     'mention_type': 'UNK',\n",
       "     'text': 'secretary'},\n",
       "    {'id': 'CNN_CF_20030303.1900.00-6-E10',\n",
       "     'start': 39,\n",
       "     'end': 40,\n",
       "     'entity_type': 'PER',\n",
       "     'mention_type': 'UNK',\n",
       "     'text': 'Ridge'}]}],\n",
       " 'event_coreference': [],\n",
       " 'tokens': ['Even',\n",
       "  'as',\n",
       "  'the',\n",
       "  'secretary',\n",
       "  'of',\n",
       "  'homeland',\n",
       "  'security',\n",
       "  'was',\n",
       "  'putting',\n",
       "  'his',\n",
       "  'people',\n",
       "  'on',\n",
       "  'high',\n",
       "  'alert',\n",
       "  'last',\n",
       "  'month',\n",
       "  ',',\n",
       "  'a',\n",
       "  '30-foot',\n",
       "  'Cuban',\n",
       "  'patrol',\n",
       "  'boat',\n",
       "  'with',\n",
       "  'four',\n",
       "  'heavily',\n",
       "  'armed',\n",
       "  'men',\n",
       "  'landed',\n",
       "  'on',\n",
       "  'American',\n",
       "  'shores',\n",
       "  ',',\n",
       "  'utterly',\n",
       "  'undetected',\n",
       "  'by',\n",
       "  'the',\n",
       "  'Coast',\n",
       "  'Guard',\n",
       "  'Secretary',\n",
       "  'Ridge',\n",
       "  'now',\n",
       "  'leads',\n",
       "  '.'],\n",
       " 'pieces': ['Even',\n",
       "  'as',\n",
       "  'the',\n",
       "  'secret',\n",
       "  'ary',\n",
       "  'of',\n",
       "  'hom',\n",
       "  'eland',\n",
       "  'security',\n",
       "  'was',\n",
       "  'put',\n",
       "  'ting',\n",
       "  'his',\n",
       "  'people',\n",
       "  'on',\n",
       "  'high',\n",
       "  'alert',\n",
       "  'last',\n",
       "  'month',\n",
       "  ',',\n",
       "  'a',\n",
       "  '30',\n",
       "  '-',\n",
       "  'foot',\n",
       "  'Cub',\n",
       "  'an',\n",
       "  'pat',\n",
       "  'rol',\n",
       "  'boat',\n",
       "  'with',\n",
       "  'four',\n",
       "  'he',\n",
       "  'av',\n",
       "  'ily',\n",
       "  'armed',\n",
       "  'men',\n",
       "  'land',\n",
       "  'ed',\n",
       "  'on',\n",
       "  'American',\n",
       "  'sh',\n",
       "  'ores',\n",
       "  ',',\n",
       "  'utter',\n",
       "  'ly',\n",
       "  'und',\n",
       "  'et',\n",
       "  'ected',\n",
       "  'by',\n",
       "  'the',\n",
       "  'Co',\n",
       "  'ast',\n",
       "  'Guard',\n",
       "  'Secretary',\n",
       "  'R',\n",
       "  'idge',\n",
       "  'now',\n",
       "  'le',\n",
       "  'ads',\n",
       "  '.'],\n",
       " 'token_lens': [1,\n",
       "  1,\n",
       "  1,\n",
       "  2,\n",
       "  1,\n",
       "  2,\n",
       "  1,\n",
       "  1,\n",
       "  2,\n",
       "  1,\n",
       "  1,\n",
       "  1,\n",
       "  1,\n",
       "  1,\n",
       "  1,\n",
       "  1,\n",
       "  1,\n",
       "  1,\n",
       "  3,\n",
       "  2,\n",
       "  2,\n",
       "  1,\n",
       "  1,\n",
       "  1,\n",
       "  3,\n",
       "  1,\n",
       "  1,\n",
       "  2,\n",
       "  1,\n",
       "  1,\n",
       "  2,\n",
       "  1,\n",
       "  2,\n",
       "  3,\n",
       "  1,\n",
       "  1,\n",
       "  2,\n",
       "  1,\n",
       "  1,\n",
       "  2,\n",
       "  1,\n",
       "  2,\n",
       "  1],\n",
       " 'sentence': 'Even as the secretary of homeland security was putting his people on high alert last month , a 30-foot Cuban patrol boat with four heavily armed men landed on American shores , utterly undetected by the Coast Guard Secretary Ridge now leads .',\n",
       " 'sentence_starts': [0]}"
      ]
     },
     "execution_count": 59,
     "metadata": {},
     "output_type": "execute_result"
    }
   ],
   "source": [
    "train[0]"
   ]
  },
  {
   "cell_type": "code",
   "execution_count": 55,
   "id": "2981fbcd-1a32-4d25-a844-a9164ac4e5ec",
   "metadata": {},
   "outputs": [],
   "source": [
    "mulit_event = {}\n",
    "event_data = {}\n",
    "c_m = 0\n",
    "for data in train:\n",
    "    if len(data['event_mentions']) > 1:\n",
    "        c_m += 1\n",
    "        e_type = e['event_type']\n",
    "        if not mulit_event.get(e_type):\n",
    "            mulit_event[e_type] = []\n",
    "        mulit_event[e_type].append(data)\n",
    "    for e in data['event_mentions']:\n",
    "        e_type = e['event_type']\n",
    "        if not event_data.get(e_type):\n",
    "            event_data[e_type] = []\n",
    "        event_data[e_type].append(data)\n",
    "test_model_data = {}\n",
    "\n",
    "for k, v in event_data.items():\n",
    "    # print('{}\\t\\t{}\\t'.format(k, len(v)))\n",
    "    if len(v) > 50:\n",
    "        test_model_data[k] = random.sample(v, 50)\n",
    "    else:\n",
    "        test_model_data[k] = v"
   ]
  },
  {
   "cell_type": "code",
   "execution_count": 56,
   "id": "5a5461cf-cdfc-493e-8f4a-174ce5f1bbc1",
   "metadata": {},
   "outputs": [
    {
     "name": "stdout",
     "output_type": "stream",
     "text": [
      "Movement:Transport\t\t50\t\n",
      "{\"doc_id\": \"fsh_29774\", \"wnd_id\": \"fsh_29774-90\", \"entity_mentions\": [{\"id\": \"fsh_29774-90-E0\", \"start\": 1, \"end\": 2, \"entity_type\": \"PER\", \"mention_type\": \"UNK\", \"text\": \"son\"}, {\"id\": \"fsh_29774-90-E1\", \"start\": 8, \"end\": 9, \"entity_type\": \"FAC\", \"mention_type\": \"UNK\", \"text\": \"home\"}], \"relation_mentions\": [], \"event_mentions\": [{\"event_type\": \"Movement:Transport\", \"id\": \"fsh_29774-90-EV0\", \"trigger\": {\"start\": 6, \"end\": 7, \"text\": \"moving\"}, \"arguments\": [{\"entity_id\": \"fsh_29774-90-E0\", \"text\": \"son\", \"role\": \"Artifact\"}, {\"entity_id\": \"fsh_29774-90-E1\", \"text\": \"home\", \"role\": \"Destination\"}]}], \"entity_coreference\": [], \"event_coreference\": [], \"tokens\": [\"My\", \"son\", \"'s\", \"going\", \"to\", \"be\", \"moving\", \"back\", \"home\", \"next\", \"year\", \",\", \"and\", \"he\", \"'s\", \"a\", \"joy\", \".\"], \"pieces\": [\"My\", \"son\", \"'s\", \"going\", \"to\", \"be\", \"moving\", \"back\", \"home\", \"next\", \"year\", \",\", \"and\", \"he\", \"'s\", \"a\", \"joy\", \".\"], \"token_lens\": [1, 1, 1, 1, 1, 1, 1, 1, 1, 1, 1, 1, 1, 1, 1, 1, 1, 1], \"sentence\": \"My son 's going to be moving back home next year , and he 's a joy .\", \"sentence_starts\": [0]}\n"
     ]
    }
   ],
   "source": [
    "for k, v in test_model_data.items():\n",
    "    # print('{}\\t\\t{}\\t'.format(k, len(v)))\n",
    "    for i, rec in enumerate(v):\n",
    "        if i < 5:\n",
    "            print(json.dumps(rec))\n",
    "        break\n",
    "    break"
   ]
  },
  {
   "cell_type": "code",
   "execution_count": 63,
   "id": "1d5db902-0bf3-4e93-9196-324ff1b0459c",
   "metadata": {},
   "outputs": [],
   "source": [
    "with open('./train.w2.oneie.json', 'w') as f:\n",
    "    for k, v in test_model_data.items():\n",
    "        for rec in v:\n",
    "            f.writelines(json.dumps(rec)+'\\n')"
   ]
  }
 ],
 "metadata": {
  "kernelspec": {
   "display_name": "Python [conda env:base] *",
   "language": "python",
   "name": "conda-base-py"
  },
  "language_info": {
   "codemirror_mode": {
    "name": "ipython",
    "version": 3
   },
   "file_extension": ".py",
   "mimetype": "text/x-python",
   "name": "python",
   "nbconvert_exporter": "python",
   "pygments_lexer": "ipython3",
   "version": "3.12.3"
  }
 },
 "nbformat": 4,
 "nbformat_minor": 5
}
