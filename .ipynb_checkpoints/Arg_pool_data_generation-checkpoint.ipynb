{
 "cells": [
  {
   "cell_type": "code",
   "execution_count": 1,
   "id": "bed8ff5f-04da-4cdc-a81e-f05fbba184d2",
   "metadata": {},
   "outputs": [],
   "source": [
    "# gen trigger\n",
    "\n",
    "import os\n",
    "import re\n",
    "import json\n",
    "import copy\n",
    "import time\n",
    "import random\n",
    "import pickle\n",
    "\n",
    "from utils.chat2DeepSeek import Chat2DeepSeek\n",
    "from utils.gen_prompt import Prompt\n",
    "from utils.util import parse_trigger_answer, parse_argument_answer, save_json, load_json"
   ]
  },
  {
   "cell_type": "code",
   "execution_count": 2,
   "id": "7418dcdf-ab4a-46f5-89f8-832267f0d61b",
   "metadata": {},
   "outputs": [],
   "source": [
    "API_KEY = 'sk-553325d9958b4b3ba7bf15d297abb364'"
   ]
  },
  {
   "cell_type": "code",
   "execution_count": 3,
   "id": "388bfcd6-7c28-48c9-80d2-1b8f67a6cdb1",
   "metadata": {},
   "outputs": [],
   "source": [
    "event_dict = load_json('./meta_data/event_dict_full.json')"
   ]
  },
  {
   "cell_type": "code",
   "execution_count": 4,
   "id": "5205fe58-d7e3-4c18-9bca-57d7e17e989c",
   "metadata": {},
   "outputs": [],
   "source": [
    "n_event = 3\n",
    "n_trigger = 100\n",
    "n_argument = 20\n",
    "complex_score = [5, 10]\n",
    "max_argument = 4\n"
   ]
  },
  {
   "cell_type": "code",
   "execution_count": 5,
   "id": "8906a817-7905-4087-b754-79406527d8bd",
   "metadata": {},
   "outputs": [],
   "source": [
    "def get_local_time():\n",
    "    return str(time.localtime().tm_mon) + '_' + str(time.localtime().tm_mday) + '_' + str(time.localtime().tm_hour) + '_' + str(time.localtime().tm_min)"
   ]
  },
  {
   "cell_type": "code",
   "execution_count": 6,
   "id": "78338171-3ade-44a2-bb5f-09b679dd6a47",
   "metadata": {},
   "outputs": [],
   "source": [
    "def chat4argument_pool(gen_prompt, n_argument, event_type, event_def, role_dict):\n",
    "    chat = Chat2DeepSeek(api_key=API_KEY)\n",
    "    response = chat.prompt2chat(gen_prompt.gen_argument_promt(n_argument, event_type, event_def, role_dict)).strip()\n",
    "    a_d = re.sub('^```json', '', response, flags=re.I)\n",
    "    a_d = re.sub('```$', '', a_d, flags=re.I)\n",
    "    try:\n",
    "        return json.loads(a_d)\n",
    "    except:\n",
    "        return a_d"
   ]
  },
  {
   "cell_type": "code",
   "execution_count": 7,
   "id": "35f96668-4e6b-40f2-86e6-04e450489c03",
   "metadata": {},
   "outputs": [],
   "source": [
    "def chat4trigger_pool(gen_prompt, n_trigger, event_type, event_def, example, exam_trigger):\n",
    "    chat = Chat2DeepSeek(api_key=API_KEY)\n",
    "    response = chat.prompt2chat(gen_prompt.gen_trigger_prompt(n_trigger, event_type, event_def, example, exam_trigger)).strip()\n",
    "    a_d = re.sub('^```json', '', response, flags=re.I)\n",
    "    a_d = re.sub('```$', '', a_d, flags=re.I)\n",
    "    try:\n",
    "        return json.loads(a_d)\n",
    "    except:\n",
    "        return a_d"
   ]
  },
  {
   "cell_type": "code",
   "execution_count": 12,
   "id": "44aff0e9-7e9f-4bac-9563-ba5d284d52bc",
   "metadata": {},
   "outputs": [],
   "source": [
    "def chat4argument_pool_all(event_dict, n_argument):\n",
    "    event_arg = {}\n",
    "    for i, event in enumerate(event_dict, 1):\n",
    "        # event_dict = {'ATTACK':[event_def, role_dict, example, exam_trigger]}\n",
    "        gen_prompt = Prompt()\n",
    "        event_type = event\n",
    "        event_def = event_dict[event][0]\n",
    "        role_dict = event_dict[event][1]\n",
    "\n",
    "        start_time = time.time()\n",
    "        print('TIME {} -- chating for EVENT {}'.format(get_local_time(), event))\n",
    "        a_d = chat4argument_pool(gen_prompt, n_argument, event_type, event_def, role_dict)\n",
    "        print('TIME {} -- done chating'.format(get_local_time()))\n",
    "        if type(a_d) == type({}):\n",
    "            event_arg[event] = a_d\n",
    "        else:\n",
    "            print('error ', event)\n",
    "            try:\n",
    "                with open('./log/error/' + event + '_arg.txt', 'w') as f:\n",
    "                    f.write(a_d)\n",
    "            except:\n",
    "                print('---can not save:', a_d)\n",
    "        end_time = time.time()\n",
    "        print('Done processing EVENT: {}, in {} s'.format(event, end_time - start_time))\n",
    "        time.sleep(5)\n",
    "    return event_arg"
   ]
  },
  {
   "cell_type": "code",
   "execution_count": 11,
   "id": "a6c88c74-aa26-4c5b-9c3f-ea792ef1125c",
   "metadata": {},
   "outputs": [],
   "source": [
    "def chat4trigger_pool_all(event_dict, n_trigger):\n",
    "    \n",
    "    event_arg = {}\n",
    "    for i, event in enumerate(event_dict, 1):\n",
    "        # event_dict = {'ATTACK':[event_def, role_dict, example, exam_trigger, father_event]}\n",
    "        gen_prompt = Prompt()\n",
    "        event_type = event\n",
    "        event_def = event_dict[event][0]\n",
    "        example = event_dict[event][2]\n",
    "        exam_trigger = event_dict[event][3]\n",
    "        \n",
    "\n",
    "        start_time = time.time()\n",
    "        print('TIME {} -- chating for EVENT {}'.format(get_local_time(), event))\n",
    "        a_d = chat4trigger_pool(gen_prompt, n_trigger, event_type, event_def, example, exam_trigger)\n",
    "        print('TIME {} -- done chating'.format(get_local_time()))\n",
    "        if type(a_d) == type({}):\n",
    "            event_arg[event] = a_d['triggers']\n",
    "        else:\n",
    "            print('error ', event)\n",
    "            try:\n",
    "                with open('./log/error/' + event + '_trigger.txt', 'w') as f:\n",
    "                    f.write(a_d)\n",
    "            except:\n",
    "                print('---can not save:', a_d)\n",
    "        end_time = time.time()\n",
    "        print('Done processing EVENT: {}, in {} s'.format(event, end_time - start_time))\n",
    "        time.sleep(5)\n",
    "    return event_arg"
   ]
  },
  {
   "cell_type": "code",
   "execution_count": null,
   "id": "1564a241-648d-4965-b177-64b57dfdd821",
   "metadata": {},
   "outputs": [
    {
     "name": "stdout",
     "output_type": "stream",
     "text": [
      "TIME 3_2_21_51 -- chating for EVENT START-ORG\n"
     ]
    }
   ],
   "source": [
    "trigger_pool = chat4trigger_pool_all(event_dict, n_trigger)"
   ]
  },
  {
   "cell_type": "code",
   "execution_count": 30,
   "id": "b8de4654-fc7d-4feb-8fe3-9bb5c5fd3904",
   "metadata": {},
   "outputs": [],
   "source": [
    "# arg_pool = chat4argument_pool_all(event_dict, n_trigger)"
   ]
  }
 ],
 "metadata": {
  "kernelspec": {
   "display_name": "Python 3 (ipykernel)",
   "language": "python",
   "name": "python3"
  },
  "language_info": {
   "codemirror_mode": {
    "name": "ipython",
    "version": 3
   },
   "file_extension": ".py",
   "mimetype": "text/x-python",
   "name": "python",
   "nbconvert_exporter": "python",
   "pygments_lexer": "ipython3",
   "version": "3.11.7"
  }
 },
 "nbformat": 4,
 "nbformat_minor": 5
}
