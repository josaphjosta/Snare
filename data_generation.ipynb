{
 "cells": [
  {
   "cell_type": "code",
   "execution_count": 3,
   "id": "bed8ff5f-04da-4cdc-a81e-f05fbba184d2",
   "metadata": {},
   "outputs": [],
   "source": [
    "# gen data\n",
    "\n",
    "import os\n",
    "import re\n",
    "import json\n",
    "import copy\n",
    "import time\n",
    "import logging\n",
    "import random\n",
    "import pickle\n",
    "\n",
    "from utils.chat2DeepSeek import Chat2DeepSeek\n",
    "from utils.gen_prompt import Prompt\n",
    "from utils.util import *"
   ]
  },
  {
   "cell_type": "code",
   "execution_count": 8,
   "id": "388bfcd6-7c28-48c9-80d2-1b8f67a6cdb1",
   "metadata": {},
   "outputs": [],
   "source": [
    "API_KEY = 'sk-7015d98e24c9431f9fb7fb2a4454186e'\n",
    "event_sen = {}\n",
    "event_sub_list = ['SUE']#\n",
    "\n",
    "# event_sen = load_json('./data_5_ATTACK_6_15_18_53.json')\n",
    "data4chat = load_pickle('./exp_data/event_batch_withexam10.pkl')\n",
    "event_dict = load_json('./meta_data/event_dict_full.json') # defin from doc\n",
    "trigger_dict = load_json('./exp_data/trigger_sout_top10.json')\n",
    "arguments_dict = load_json('./exp_data/argument_sout_tophalf.json')\n",
    "\n",
    "fp = './meta_data/arg_roles/'\n",
    "\n",
    "arg_role_definition = {}\n",
    "for fn in os.listdir(fp):\n",
    "    if not fn.endswith('.txt'):\n",
    "        continue\n",
    "    with open(fp + fn, 'r', encoding = 'utf-8') as f:\n",
    "        s = f.read()\n",
    "    j = json.loads(s)\n",
    "    arg_role_definition.update(j)"
   ]
  },
  {
   "cell_type": "code",
   "execution_count": 10,
   "id": "c1590bff-ff95-4573-a310-190812f2d5a0",
   "metadata": {},
   "outputs": [],
   "source": [
    "n_trigger = 100\n",
    "n_argument = 20\n",
    "sentence_per_event = 50\n",
    "complex_score = [5, 10] # not implemented\n",
    "max_argument = 2\n",
    "max_event = 5\n",
    "max_refine = 3\n",
    "\n",
    "weight_dict = {0:[1],\n",
    "                1:[1],\n",
    "                2:[0.5, 0.5],\n",
    "                3:[0.2, 0.5, 0.3],\n",
    "                4:[0.1, 0.2, 0.3, 0.4],\n",
    "                5:[0.1, 0.1, 0.3, 0.3, 0.2]\n",
    "                  }"
   ]
  },
  {
   "cell_type": "code",
   "execution_count": 12,
   "id": "19b92ad9-e398-407e-98ed-4e4e7fe6aff7",
   "metadata": {},
   "outputs": [],
   "source": [
    "def get_n_event(max_event, weight_dict):\n",
    "    if max_event == 0:\n",
    "        return 0\n",
    "    return random.choices([ i for i in range(1, max_event + 1)], weights=weight_dict[max_event])\n",
    "\n",
    "def get_local_time():\n",
    "    return str(time.localtime().tm_mon) + '_' + str(time.localtime().tm_mday) + '_' + str(time.localtime().tm_hour) + '_' + str(time.localtime().tm_min)\n",
    "    "
   ]
  },
  {
   "cell_type": "code",
   "execution_count": 91,
   "id": "73d6d947-75e0-4601-b27f-8cdb1539fb2e",
   "metadata": {},
   "outputs": [],
   "source": [
    "def narrator_prompt(event_record, event_dict):\n",
    "    task = '''\n",
    "Task Definition \n",
    "    You are an writer, looking to write sentences that contain specific events and event triggers. An event is a specific occurrence involving participants. An event is something that happens. An event can frequently be described as a change of state. Event trigger is the word that most clearly expresses its occurrence. Event triggers are often only a few words in length. \n",
    "    '''\n",
    "    ontology = 'Related Event Ontology\\n\\t'\n",
    "    query = '\\nQuery \\n\\tGenerate a new sentence using '\n",
    "    for e_id, r in event_record.items():\n",
    "        event = r['event']\n",
    "        trigger = r['trigger']\n",
    "        ontology += f'\\n\\tA \"{event}\" event means: {event_dict[event][0]}'\n",
    "        query += f'trigger \"{trigger}\" for event {event}, '\n",
    "    output = '\\nOutPut Format: \\n\\toutput in json, e.g., {\"sentences\": \"generated sentences\"}'\n",
    "    return task + ontology + query[:-2] + '.' + output\n",
    "    \n",
    "def refiner_prompt(event_record, sen, event_dict):\n",
    "    task = '''\n",
    "Task Definition \n",
    "    This is an event extraction task where the goal is to extract structured events from the text. A structured event contains an event trigger word and an event type. \n",
    "Full Event Ontology'''\n",
    "    ontology =  '\\n\\tEvents of interests:\\n\\t'\n",
    "    for e_id, r in event_record.items():\n",
    "        event = r['event']\n",
    "        trigger = r['trigger']\n",
    "        ontology += f'\\n\\tA \"{event}\" event means: {event_dict[event][0]}'\n",
    "    query = '''\n",
    "Query\n",
    "    Below is a sentence from which you need to extract the events if any. Only output a list of tuples in the form [(\"event_type_1\", \"event_trigger_word_1\"), (\"event_type_2\", \"event_trigger_word_2\"), ...] for each event in the sentence. \n",
    "    sentence: \n",
    "    '''\n",
    "    query += f'\"{sen}\".'\n",
    "    return task + ontology + query\n"
   ]
  },
  {
   "cell_type": "code",
   "execution_count": 93,
   "id": "f7a0d38e-0db0-46d6-b42c-3e24f68a6f6c",
   "metadata": {},
   "outputs": [],
   "source": [
    "gen_prompt = Prompt(\n",
    "    event_dict = event_dict, \n",
    "    trigger_dict = trigger_dict, \n",
    "    arguments_dict = arguments_dict, \n",
    "    n_event = get_n_event(max_event, weight_dict)[0], \n",
    "    max_argument = max_argument,\n",
    "    complex_score = complex_score,\n",
    "    use_chain = False)"
   ]
  },
  {
   "cell_type": "code",
   "execution_count": 95,
   "id": "58cd497a-7a20-46c4-8ade-f4c3fcdb3e5c",
   "metadata": {},
   "outputs": [],
   "source": [
    "prompt, record = gen_prompt.gen_data_prompt(main_event='ATTACK', n_event=5)\n",
    "record = json.loads(record)"
   ]
  },
  {
   "cell_type": "code",
   "execution_count": 97,
   "id": "8b19d481-9c0e-4a0f-874f-ea04a4c3e2bf",
   "metadata": {},
   "outputs": [
    {
     "name": "stdout",
     "output_type": "stream",
     "text": [
      "\n",
      "Task Definition \n",
      "    You are an writer, looking to write sentences that contain specific events and event triggers. An event is a specific occurrence involving participants. An event is something that happens. An event can frequently be described as a change of state. Event trigger is the word that most clearly expresses its occurrence. Event triggers are often only a few words in length. \n",
      "    Related Event Ontology\n",
      "\t\n",
      "\tA \"ATTACK\" event means: An ATTACK Event is defined as a violent physical act causing harm or damage.  ATTACK Events include any such Event not covered by the INJURE or DIE subtypes, including Events where there is no stated agent.  The ATTACK Event type includes less specific violence-related nouns such as ‘conflict’, ‘clashes’, and ‘fighting’.  ‘Gunfire’, which has the qualities of both an Event and a weapon, should always be tagged as an ATTACK Event, if only for the sake of consistency.  A ‘coup’ is a kind of ATTACK (and so is a ‘war’). \n",
      "\tA \"ARREST-JAIL\" event means: A JAIL Event occurs whenever the movement of a PERSON is constrained by a state actor (a GPE, its ORGANIZATION subparts, or its PERSON representatives). An ARREST Event occurs whenever a state actor (GPE, ORGANIZATION subpart, or PERSON representative) takes official custody of a PERSON Entity for the purposes of evaluating legal liability in a criminal activity. ARREST-JAIL Events can have a CRIME-ARG attribute filled with a string from the text.  For example: Scott Peterson was arrested for the murder of his wife. In the above example, the CRIME-ARG is a CRIME Value populated by the string ‘murder’. \n",
      "\tA \"TRIAL-HEARING\" event means: A TRIAL Event occurs whenever a court proceeding has been initiated for the purposes of determining the guilt or innocence of a PERSON, ORGANIZATION or GPE accused of committing a crime.   A HEARING Event occurs whenever a state actor (GPE, ORGANIZATION subpart, or PERSON representative) officially gathers to discuss some criminal legal matter.   A TRIAL-HEARING Event can have a CRIME attribute filled by a string from the text.  It is important that the PROSECUTER-ARG be a state actor (GPE, ORGANIZATION subpart or PERSON representing them).\n",
      "\tA \"EXECUTE\" event means: An EXECUTE Event occurs whenever the life of a PERSON is taken by a state actor (a GPE, its ORGANIZATION subparts, or PERSON representatives).  It can have a CRIME attribute filled by a string from the text. \n",
      "\tA \"ATTACK\" event means: An ATTACK Event is defined as a violent physical act causing harm or damage.  ATTACK Events include any such Event not covered by the INJURE or DIE subtypes, including Events where there is no stated agent.  The ATTACK Event type includes less specific violence-related nouns such as ‘conflict’, ‘clashes’, and ‘fighting’.  ‘Gunfire’, which has the qualities of both an Event and a weapon, should always be tagged as an ATTACK Event, if only for the sake of consistency.  A ‘coup’ is a kind of ATTACK (and so is a ‘war’). \n",
      "Query \n",
      "\tGenerate a new sentence using trigger \"fire\" for event ATTACK, trigger \"detained\" for event ARREST-JAIL, trigger \"Trials\" for event TRIAL-HEARING, trigger \"hanged\" for event EXECUTE, trigger \"fighting\" for event ATTACK.\n",
      "OutPut Format: \n",
      "\toutput in json, e.g., {\"sentences\": \"generated sentences\"}\n"
     ]
    }
   ],
   "source": [
    "print(narrator_prompt(record, event_dict))"
   ]
  },
  {
   "cell_type": "code",
   "execution_count": 102,
   "id": "2464b710-0f22-4549-b0ea-6533def1c90e",
   "metadata": {},
   "outputs": [
    {
     "name": "stdout",
     "output_type": "stream",
     "text": [
      "\n",
      "Task Definition \n",
      "    This is an event extraction task where the goal is to extract structured events from the text. A structured event contains an event trigger word and an event type. \n",
      "Full Event Ontology\n",
      "\tEvents of interests:\n",
      "\t\n",
      "\tA \"ATTACK\" event means: An ATTACK Event is defined as a violent physical act causing harm or damage.  ATTACK Events include any such Event not covered by the INJURE or DIE subtypes, including Events where there is no stated agent.  The ATTACK Event type includes less specific violence-related nouns such as ‘conflict’, ‘clashes’, and ‘fighting’.  ‘Gunfire’, which has the qualities of both an Event and a weapon, should always be tagged as an ATTACK Event, if only for the sake of consistency.  A ‘coup’ is a kind of ATTACK (and so is a ‘war’). \n",
      "\tA \"ARREST-JAIL\" event means: A JAIL Event occurs whenever the movement of a PERSON is constrained by a state actor (a GPE, its ORGANIZATION subparts, or its PERSON representatives). An ARREST Event occurs whenever a state actor (GPE, ORGANIZATION subpart, or PERSON representative) takes official custody of a PERSON Entity for the purposes of evaluating legal liability in a criminal activity. ARREST-JAIL Events can have a CRIME-ARG attribute filled with a string from the text.  For example: Scott Peterson was arrested for the murder of his wife. In the above example, the CRIME-ARG is a CRIME Value populated by the string ‘murder’. \n",
      "\tA \"TRIAL-HEARING\" event means: A TRIAL Event occurs whenever a court proceeding has been initiated for the purposes of determining the guilt or innocence of a PERSON, ORGANIZATION or GPE accused of committing a crime.   A HEARING Event occurs whenever a state actor (GPE, ORGANIZATION subpart, or PERSON representative) officially gathers to discuss some criminal legal matter.   A TRIAL-HEARING Event can have a CRIME attribute filled by a string from the text.  It is important that the PROSECUTER-ARG be a state actor (GPE, ORGANIZATION subpart or PERSON representing them).\n",
      "\tA \"EXECUTE\" event means: An EXECUTE Event occurs whenever the life of a PERSON is taken by a state actor (a GPE, its ORGANIZATION subparts, or PERSON representatives).  It can have a CRIME attribute filled by a string from the text. \n",
      "\tA \"ATTACK\" event means: An ATTACK Event is defined as a violent physical act causing harm or damage.  ATTACK Events include any such Event not covered by the INJURE or DIE subtypes, including Events where there is no stated agent.  The ATTACK Event type includes less specific violence-related nouns such as ‘conflict’, ‘clashes’, and ‘fighting’.  ‘Gunfire’, which has the qualities of both an Event and a weapon, should always be tagged as an ATTACK Event, if only for the sake of consistency.  A ‘coup’ is a kind of ATTACK (and so is a ‘war’). \n",
      "Query\n",
      "    Below is a sentence from which you need to extract the events if any. Only output a list of tuples in the form [(\"event_type_1\", \"event_trigger_word_1\"), (\"event_type_2\", \"event_trigger_word_2\"), ...] for each event in the sentence. \n",
      "    sentence: \n",
      "    \"During the intense fighting in the city, rebels fired at government forces, leading to several soldiers being detained; later, their Trials were swift, and three were hanged for treason.\".\n"
     ]
    }
   ],
   "source": [
    "sen = \"During the intense fighting in the city, rebels fired at government forces, leading to several soldiers being detained; later, their Trials were swift, and three were hanged for treason.\"\n",
    "print(refiner_prompt(record,sen, event_dict))"
   ]
  },
  {
   "cell_type": "code",
   "execution_count": 104,
   "id": "c8d13402-a407-42f7-9799-63abac9df4fc",
   "metadata": {},
   "outputs": [
    {
     "data": {
      "text/plain": [
       "{'event_1': {'event': 'ATTACK',\n",
       "  'trigger': 'fire',\n",
       "  'argument': {'Instrument': ['weapon'],\n",
       "   'Attacker': ['brigade'],\n",
       "   'Place': ['colombia']}},\n",
       " 'event_2': {'event': 'ARREST-JAIL',\n",
       "  'trigger': 'detained',\n",
       "  'argument': {'Place': ['colombia'],\n",
       "   'Agent': ['American commandos'],\n",
       "   'Person': ['brigade']}},\n",
       " 'event_3': {'event': 'TRIAL-HEARING',\n",
       "  'trigger': 'Trials',\n",
       "  'argument': {'Place': ['colombia'],\n",
       "   'Adjudicator': ['Appeals', 'judge'],\n",
       "   'Prosecutor': ['prosecutes', 'Immigration and Checkpoints Authority'],\n",
       "   'Defendant': ['group']}},\n",
       " 'event_4': {'event': 'EXECUTE',\n",
       "  'trigger': 'hanged',\n",
       "  'argument': {'Place': ['colombia'],\n",
       "   'Person': ['killer'],\n",
       "   'Agent': ['they']}},\n",
       " 'event_5': {'event': 'ATTACK',\n",
       "  'trigger': 'fighting',\n",
       "  'argument': {'Instrument': ['weapon'],\n",
       "   'Attacker': ['brigade'],\n",
       "   'Place': ['colombia'],\n",
       "   'Target': ['agent']}}}"
      ]
     },
     "execution_count": 104,
     "metadata": {},
     "output_type": "execute_result"
    }
   ],
   "source": [
    "record"
   ]
  },
  {
   "cell_type": "code",
   "execution_count": 106,
   "id": "8de95935-d3b6-416f-b451-1b5ff5bc91d6",
   "metadata": {},
   "outputs": [],
   "source": [
    "s = '''[\n",
    "  (\"ATTACK\", \"fighting\"),\n",
    "  (\"ATTACK\", \"fired\"),\n",
    "  (\"ARREST-JAIL\", \"detained\"),\n",
    "  (\"TRIAL-HEARING\", \"Trials\"),\n",
    "  (\"EXECUTE\", \"hanged\")\n",
    "]'''"
   ]
  },
  {
   "cell_type": "code",
   "execution_count": 112,
   "id": "99bd4db6-e8bc-4b0d-950a-d4b597b387ee",
   "metadata": {},
   "outputs": [
    {
     "ename": "TypeError",
     "evalue": "a bytes-like object is required, not 'str'",
     "output_type": "error",
     "traceback": [
      "\u001b[1;31m---------------------------------------------------------------------------\u001b[0m",
      "\u001b[1;31mTypeError\u001b[0m                                 Traceback (most recent call last)",
      "Cell \u001b[1;32mIn[112], line 1\u001b[0m\n\u001b[1;32m----> 1\u001b[0m \u001b[43mpickle\u001b[49m\u001b[38;5;241;43m.\u001b[39;49m\u001b[43mloads\u001b[49m\u001b[43m(\u001b[49m\u001b[43ms\u001b[49m\u001b[43m)\u001b[49m\n",
      "\u001b[1;31mTypeError\u001b[0m: a bytes-like object is required, not 'str'"
     ]
    }
   ],
   "source": [
    "pickle.loads(s)"
   ]
  },
  {
   "cell_type": "code",
   "execution_count": 114,
   "id": "5ea3cfd8-5614-4211-885a-1fc1c451590f",
   "metadata": {},
   "outputs": [],
   "source": [
    "import ast"
   ]
  },
  {
   "cell_type": "code",
   "execution_count": 116,
   "id": "73e5d570-de91-48fa-a776-d829b92a0188",
   "metadata": {},
   "outputs": [],
   "source": [
    "event_list = ast.literal_eval(s)"
   ]
  },
  {
   "cell_type": "code",
   "execution_count": 118,
   "id": "1ea34525-bd6d-4039-b13a-6254c862d0f9",
   "metadata": {},
   "outputs": [
    {
     "data": {
      "text/plain": [
       "[('ATTACK', 'fighting'),\n",
       " ('ATTACK', 'fired'),\n",
       " ('ARREST-JAIL', 'detained'),\n",
       " ('TRIAL-HEARING', 'Trials'),\n",
       " ('EXECUTE', 'hanged')]"
      ]
     },
     "execution_count": 118,
     "metadata": {},
     "output_type": "execute_result"
    }
   ],
   "source": [
    "event_list"
   ]
  },
  {
   "cell_type": "code",
   "execution_count": null,
   "id": "9f8dc058-7b16-4c6a-b1ef-a4b6a8a43ca6",
   "metadata": {},
   "outputs": [],
   "source": []
  }
 ],
 "metadata": {
  "kernelspec": {
   "display_name": "Python [conda env:data]",
   "language": "python",
   "name": "conda-env-data-py"
  },
  "language_info": {
   "codemirror_mode": {
    "name": "ipython",
    "version": 3
   },
   "file_extension": ".py",
   "mimetype": "text/x-python",
   "name": "python",
   "nbconvert_exporter": "python",
   "pygments_lexer": "ipython3",
   "version": "3.10.18"
  }
 },
 "nbformat": 4,
 "nbformat_minor": 5
}
