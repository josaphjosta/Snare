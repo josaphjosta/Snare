{
 "cells": [
  {
   "cell_type": "code",
   "execution_count": 1,
   "id": "721d4d3e-d07d-49e0-a939-0d2f1e0627d8",
   "metadata": {},
   "outputs": [],
   "source": [
    "import os\n",
    "import re\n",
    "import pickle\n",
    "import json\n",
    "import pandas as pd\n",
    "from pandas import Series,DataFrame\n",
    "\n",
    "from utils.util import save_pickle, load_pickle"
   ]
  },
  {
   "cell_type": "code",
   "execution_count": 63,
   "id": "10f361a8-9894-4049-bf0b-d2e96186cdc3",
   "metadata": {},
   "outputs": [],
   "source": [
    "fp = './meta_data/event_definition/'"
   ]
  },
  {
   "cell_type": "code",
   "execution_count": 65,
   "id": "10c74a07-6826-47fa-a7cd-0e5ef6e10c6a",
   "metadata": {},
   "outputs": [
    {
     "name": "stdout",
     "output_type": "stream",
     "text": [
      "BUSINESS.txt\n",
      "CONFLICT.txt\n",
      "CONTACT.txt\n",
      "JUSTICE.txt\n",
      "LIFE.txt\n",
      "MOVEMENT.txt\n",
      "PERSONNEL.txt\n",
      "TRANSACTION.txt\n"
     ]
    }
   ],
   "source": [
    "event_dict = {}\n",
    "for fn in os.listdir(fp):\n",
    "    if not fn.endswith('.txt'):\n",
    "        continue\n",
    "    print(fn)\n",
    "    d = pd.read_csv(fp + fn, sep='?', header=None)\n",
    "    l = d.to_dict(orient = 'split', index=False)['data']\n",
    "    for i in l:\n",
    "        key = i[0].strip()\n",
    "        event_dict[key] = i[1:]\n",
    "        event_dict[key].append(fn.split('.')[0])"
   ]
  },
  {
   "cell_type": "code",
   "execution_count": 67,
   "id": "6fde6ca3-7ce8-46b0-be68-84b693d897be",
   "metadata": {},
   "outputs": [],
   "source": [
    "save_pickle(event_dict, './event_definition.pkl')"
   ]
  },
  {
   "cell_type": "code",
   "execution_count": 69,
   "id": "bfc2010d-fb66-483b-89cf-812d566f7a19",
   "metadata": {},
   "outputs": [],
   "source": [
    "def replace_span(j):\n",
    "    jr = {}\n",
    "    for event in j:\n",
    "        jr[event] = {}\n",
    "        for arg in j[event]:\n",
    "            arg_re = arg.strip().replace('-Arg', '')\n",
    "            jr[event][arg_re] = []\n",
    "            name = ''\n",
    "            for entity in j[event][arg][0].split('/'):\n",
    "                try:\n",
    "                    name = name + map_dict[entity] + '/'\n",
    "                except:\n",
    "                    print(event, j[event][arg])\n",
    "                    continue\n",
    "            jr[event][arg_re] = [j[event][arg][1], name[:-1]]\n",
    "    return jr"
   ]
  },
  {
   "cell_type": "code",
   "execution_count": 71,
   "id": "eaed3dc2-fcd0-49d8-8ded-ef9fe976738e",
   "metadata": {},
   "outputs": [],
   "source": [
    "fp = './meta_data/arg_roles/'\n",
    "\n",
    "map_dict = {'PER':'Person',\n",
    "            'ORG':'Organization',\n",
    "            'GPE':'Geo-Political',\n",
    "            'LOC':'Locations',\n",
    "            'FAC':'Facilities',\n",
    "            'VEH':'Vehicle',\n",
    "            'WEA':'Weapon',\n",
    "            'TIME':'Time',\n",
    "            'CRIME':'Crime',\n",
    "            'JOB':'Job',\n",
    "            'MONEY':'Money',\n",
    "            'NUM':'Number',\n",
    "            'SEN':'Sentence'\n",
    "           }"
   ]
  },
  {
   "cell_type": "code",
   "execution_count": 73,
   "id": "96b3c222-bb4a-4ec9-b279-fda5482aba4a",
   "metadata": {},
   "outputs": [
    {
     "name": "stdout",
     "output_type": "stream",
     "text": [
      "---Business.txt\n",
      "---Conflict.txt\n",
      "---Contact.txt\n",
      "---Justice.txt\n",
      "---Life.txt\n",
      "---Movement.txt\n",
      "---Personnel.txt\n",
      "---Transaction.txt\n"
     ]
    }
   ],
   "source": [
    "arg_role_definition = {}\n",
    "for fn in os.listdir(fp):\n",
    "    if not fn.endswith('.txt'):\n",
    "        continue\n",
    "    print('---' + fn)\n",
    "    with open(fp + fn, 'r', encoding = 'utf-8') as f:\n",
    "        s = f.read()\n",
    "    j = json.loads(s)\n",
    "    arg_role_definition.update(replace_span(j))"
   ]
  },
  {
   "cell_type": "code",
   "execution_count": 75,
   "id": "df17ee6d-4d65-4066-8380-65d3b4a6f8b5",
   "metadata": {},
   "outputs": [],
   "source": [
    "practical_roles = load_pickle('./exp_data/practical_roles.pkl')"
   ]
  },
  {
   "cell_type": "code",
   "execution_count": 77,
   "id": "36f8cd4a-6892-4994-8507-e0866a984a61",
   "metadata": {},
   "outputs": [
    {
     "name": "stdout",
     "output_type": "stream",
     "text": [
      "SENTENCE skip: Sentence\n",
      "FINE skip: Money\n",
      "EXTRADITE skip: Person\n",
      "DIVORCE skip: Place\n"
     ]
    }
   ],
   "source": [
    "role_definition = {}\n",
    "for event in arg_role_definition:\n",
    "    role_definition[event] = {}\n",
    "    role_list = arg_role_definition[event].keys()\n",
    "    practical_list = practical_roles[event].keys()\n",
    "    for role in role_list:\n",
    "        if role in practical_list:\n",
    "            role_definition[event][role] = arg_role_definition[event][role]\n",
    "        else:\n",
    "            print(f'{event} skip: {role}')"
   ]
  },
  {
   "cell_type": "code",
   "execution_count": 81,
   "id": "da45c7aa-23a5-4d3d-9066-e56d7eaf8162",
   "metadata": {},
   "outputs": [],
   "source": [
    "event_dict_full = {}\n",
    "for i in event_dict:\n",
    "    event_dict_full[i] = [event_dict[i][0], role_definition[i], event_dict[i][1], event_dict[i][2], event_dict[i][3]]"
   ]
  },
  {
   "cell_type": "code",
   "execution_count": 83,
   "id": "093a0800-8992-4d96-a453-f0c9fc7b876e",
   "metadata": {},
   "outputs": [],
   "source": [
    "with open('./meta_data/event_dict_full.json', 'w', encoding='utf-8') as f:\n",
    "    json.dump(event_dict_full, f)"
   ]
  },
  {
   "cell_type": "code",
   "execution_count": 85,
   "id": "bf44a26d-77b8-4958-9a84-8bc8f3299444",
   "metadata": {},
   "outputs": [],
   "source": [
    "with open('./meta_data/event_dict_full.json', 'r', encoding='utf-8') as f:\n",
    "    event_dict_full = json.load(f)"
   ]
  },
  {
   "cell_type": "code",
   "execution_count": 21,
   "id": "6a42d203-e81a-42b7-8987-a7bc7b4594b6",
   "metadata": {},
   "outputs": [
    {
     "data": {
      "text/plain": [
       "33"
      ]
     },
     "execution_count": 21,
     "metadata": {},
     "output_type": "execute_result"
    }
   ],
   "source": [
    "len(event_dict_full)"
   ]
  },
  {
   "cell_type": "code",
   "execution_count": 23,
   "id": "d4cc3247-f39c-4352-8a45-09e68c2cb25e",
   "metadata": {},
   "outputs": [
    {
     "name": "stdout",
     "output_type": "stream",
     "text": [
      "['An ELECT Event occurs whenever a candidate wins an election designed to determine the PERSON argument of a START-POSITION Event. ', {'Person': ['the person elected', 'Person'], 'Entity': ['the voting agent(s)', 'Person/Organization/Geo-Political'], 'Place': ['Where the election takes place', 'Geo-Political/Locations/Facilities']}, 'Greg Lashutka was elected mayor of Columbus in 1993.', 'elected', 'PERSONNEL']\n"
     ]
    }
   ],
   "source": [
    "print(event_dict_full['ELECT'])"
   ]
  },
  {
   "cell_type": "code",
   "execution_count": 25,
   "id": "6df6f961-6e16-417d-a794-834d32cbe718",
   "metadata": {},
   "outputs": [
    {
     "data": {
      "text/plain": [
       "dict_keys(['START-ORG', 'MERGE-ORG', 'DECLARE-BANKRUPTCY', 'END-ORG', 'ATTACK', 'DEMONSTRATE', 'MEET', 'PHONE-WRITE', 'ARREST-JAIL', 'RELEASE-PAROLE', 'TRIAL-HEARING', 'CHARGE-INDICT', 'SUE', 'CONVICT', 'SENTENCE', 'FINE', 'EXECUTE', 'EXTRADITE', 'ACQUIT', 'APPEAL', 'PARDON', 'BE-BORN', 'MARRY', 'DIVORCE', 'INJURE', 'DIE', 'TRANSPORT', 'START-POSITION', 'END-POSITION', 'NOMINATE', 'ELECT', 'TRANSFER-OWNERSHIP', 'TRANSFER-MONEY'])"
      ]
     },
     "execution_count": 25,
     "metadata": {},
     "output_type": "execute_result"
    }
   ],
   "source": [
    "event_dict_full.keys()"
   ]
  },
  {
   "cell_type": "code",
   "execution_count": null,
   "id": "31c721cf-57fa-4d55-b32e-6f814e208c03",
   "metadata": {},
   "outputs": [],
   "source": []
  }
 ],
 "metadata": {
  "kernelspec": {
   "display_name": "Python [conda env:base] *",
   "language": "python",
   "name": "conda-base-py"
  },
  "language_info": {
   "codemirror_mode": {
    "name": "ipython",
    "version": 3
   },
   "file_extension": ".py",
   "mimetype": "text/x-python",
   "name": "python",
   "nbconvert_exporter": "python",
   "pygments_lexer": "ipython3",
   "version": "3.12.3"
  }
 },
 "nbformat": 4,
 "nbformat_minor": 5
}
